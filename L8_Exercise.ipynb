{
 "cells": [
  {
   "cell_type": "markdown",
   "metadata": {},
   "source": [
    "# Module 8 Exercise - Data Storytelling\n",
    "\n",
    "In this exercise, you will **create a narrative visualization with a data set of your choosing**. You can choose any data set you can find on the Internet or a data set related to your current line of work. \n",
    "\n",
    "**You will create visualizations to give a message, make a point, or convince your audience by using all the techniques we have seen throughout the course.**\n",
    "\n",
    "Here is a list of your tasks:\n",
    "\n",
    "1. Find a data set and upload it to your exercises folder in module 8. \n",
    "\n",
    "2. Write your R code **in this exercise notebook** to create your visualizations, and save them under the `exercises` folder.\n",
    "\n",
    "3. Create a **narrative visualization document** using **any** software you want (Word, PowerPoint, Photoshop, etc.) by pasting your visualizations and creating all necessary elements (captions, text annotations, layout, etc.) \n",
    "\n",
    "4. Save your end product as a **pdf file** and upload it to your exercises folder (**name it L8_Exercise.pdf**)\n",
    "\n",
    "Make sure that you start with a clear message in mind, and filter and format your data accordingly, and create the visualizations that will **support that message**. \n",
    "\n",
    "You need to have **at least one major visualization, and a number of supporting smaller graphs (2, 3, or more)**. Make sure to have a **clean layout**, and **enough text annotations and captions** to make your message clear. \n",
    "\n",
    "You can choose any type of visualization that you believe will be most **effective** for the type of data and the message you have chosen. \n",
    "\n",
    "You will be graded by the quality of your visualizations and storytelling; **make sure to use everything you have learned in this course.** \n",
    "\n",
    "This exercise is about creating a quickly consumable product; Do **NOT** create a report or lengthy power point presentation. You can choose a poster format or few slides to tell your story (a unique angle) for the data set you have chosen. \n",
    "\n",
    "---\n",
    "\n",
    "Following is to show how to plot to a file to save a graph:"
   ]
  },
  {
   "cell_type": "code",
   "execution_count": 9,
   "metadata": {},
   "outputs": [
    {
     "data": {
      "text/html": [
       "<strong>png:</strong> 2"
      ],
      "text/latex": [
       "\\textbf{png:} 2"
      ],
      "text/markdown": [
       "**png:** 2"
      ],
      "text/plain": [
       "png \n",
       "  2 "
      ]
     },
     "metadata": {},
     "output_type": "display_data"
    }
   ],
   "source": [
    "# this is how you save a plot to a file\n",
    "library(ggplot2)\n",
    "\n",
    "# comment this out to see the plot in the notebook \n",
    "png(filename=\"myplot.png\")\n",
    "\n",
    "# your plot here..\n",
    "qplot(carat, price, data = diamonds)\n",
    "\n",
    "# comment this out to see the plot in the notebook\n",
    "dev.off()"
   ]
  },
  {
   "cell_type": "markdown",
   "metadata": {},
   "source": [
    "Make sure you have all axis labels set in R notebook before you save your plot. You can adjust width and height when saving your plots.  Here is a reference to png() function:\n",
    "https://stat.ethz.ch/R-manual/R-devel/library/grDevices/html/png.html"
   ]
  },
  {
   "cell_type": "markdown",
   "metadata": {},
   "source": [
    "**Activity:**"
   ]
  },
  {
   "cell_type": "code",
   "execution_count": 1,
   "metadata": {},
   "outputs": [
    {
     "data": {
      "text/html": [
       "<table>\n",
       "<caption>A data.frame: 6 × 5</caption>\n",
       "<thead>\n",
       "\t<tr><th scope=col>State</th><th scope=col>Total_Expenditures</th><th scope=col>State_and_Local_Library_Spend</th><th scope=col>Population</th><th scope=col>X</th></tr>\n",
       "\t<tr><th scope=col>&lt;fct&gt;</th><th scope=col>&lt;fct&gt;</th><th scope=col>&lt;fct&gt;</th><th scope=col>&lt;int&gt;</th><th scope=col>&lt;lgl&gt;</th></tr>\n",
       "</thead>\n",
       "<tbody>\n",
       "\t<tr><td>Total     </td><td>3,967,961,549</td><td> 13,039,563 </td><td>329484123</td><td>NA</td></tr>\n",
       "\t<tr><td>Alabama   </td><td>50,478,634   </td><td> 104,520    </td><td>  4921532</td><td>NA</td></tr>\n",
       "\t<tr><td>Alaska    </td><td>14,996,568   </td><td> 36,778     </td><td>   731158</td><td>NA</td></tr>\n",
       "\t<tr><td>Arizona   </td><td>64,120,262   </td><td> 193,091    </td><td>  7421401</td><td>NA</td></tr>\n",
       "\t<tr><td>Arkansas  </td><td>28,800,119   </td><td> 101,357    </td><td>  3030522</td><td>NA</td></tr>\n",
       "\t<tr><td>California</td><td>637,923,760  </td><td> 1,760,016  </td><td> 39368078</td><td>NA</td></tr>\n",
       "</tbody>\n",
       "</table>\n"
      ],
      "text/latex": [
       "A data.frame: 6 × 5\n",
       "\\begin{tabular}{r|lllll}\n",
       " State & Total\\_Expenditures & State\\_and\\_Local\\_Library\\_Spend & Population & X\\\\\n",
       " <fct> & <fct> & <fct> & <int> & <lgl>\\\\\n",
       "\\hline\n",
       "\t Total      & 3,967,961,549 &  13,039,563  & 329484123 & NA\\\\\n",
       "\t Alabama    & 50,478,634    &  104,520     &   4921532 & NA\\\\\n",
       "\t Alaska     & 14,996,568    &  36,778      &    731158 & NA\\\\\n",
       "\t Arizona    & 64,120,262    &  193,091     &   7421401 & NA\\\\\n",
       "\t Arkansas   & 28,800,119    &  101,357     &   3030522 & NA\\\\\n",
       "\t California & 637,923,760   &  1,760,016   &  39368078 & NA\\\\\n",
       "\\end{tabular}\n"
      ],
      "text/markdown": [
       "\n",
       "A data.frame: 6 × 5\n",
       "\n",
       "| State &lt;fct&gt; | Total_Expenditures &lt;fct&gt; | State_and_Local_Library_Spend &lt;fct&gt; | Population &lt;int&gt; | X &lt;lgl&gt; |\n",
       "|---|---|---|---|---|\n",
       "| Total      | 3,967,961,549 |  13,039,563  | 329484123 | NA |\n",
       "| Alabama    | 50,478,634    |  104,520     |   4921532 | NA |\n",
       "| Alaska     | 14,996,568    |  36,778      |    731158 | NA |\n",
       "| Arizona    | 64,120,262    |  193,091     |   7421401 | NA |\n",
       "| Arkansas   | 28,800,119    |  101,357     |   3030522 | NA |\n",
       "| California | 637,923,760   |  1,760,016   |  39368078 | NA |\n",
       "\n"
      ],
      "text/plain": [
       "  State      Total_Expenditures State_and_Local_Library_Spend Population X \n",
       "1 Total      3,967,961,549       13,039,563                   329484123  NA\n",
       "2 Alabama    50,478,634          104,520                        4921532  NA\n",
       "3 Alaska     14,996,568          36,778                          731158  NA\n",
       "4 Arizona    64,120,262          193,091                        7421401  NA\n",
       "5 Arkansas   28,800,119          101,357                        3030522  NA\n",
       "6 California 637,923,760         1,760,016                     39368078  NA"
      ]
     },
     "metadata": {},
     "output_type": "display_data"
    },
    {
     "data": {
      "text/html": [
       "<table>\n",
       "<caption>A data.frame: 6 × 6</caption>\n",
       "<thead>\n",
       "\t<tr><th scope=col>Location.ID</th><th scope=col>Location</th><th scope=col>Value</th><th scope=col>Rank</th><th scope=col>Anomaly..1901.2000.base.period.</th><th scope=col>X1901.2000.Mean</th></tr>\n",
       "\t<tr><th scope=col>&lt;int&gt;</th><th scope=col>&lt;fct&gt;</th><th scope=col>&lt;dbl&gt;</th><th scope=col>&lt;int&gt;</th><th scope=col>&lt;dbl&gt;</th><th scope=col>&lt;dbl&gt;</th></tr>\n",
       "</thead>\n",
       "<tbody>\n",
       "\t<tr><td>100</td><td>Alabama    </td><td>78.8</td><td> 52</td><td>-0.2</td><td>79.0</td></tr>\n",
       "\t<tr><td>200</td><td>Arizona    </td><td>80.5</td><td>125</td><td> 3.2</td><td>77.3</td></tr>\n",
       "\t<tr><td>300</td><td>Arkansas   </td><td>78.9</td><td> 64</td><td> 0.2</td><td>78.7</td></tr>\n",
       "\t<tr><td>400</td><td>California </td><td>77.3</td><td>127</td><td> 5.1</td><td>72.2</td></tr>\n",
       "\t<tr><td>500</td><td>Colorado   </td><td>67.7</td><td>124</td><td> 3.2</td><td>64.5</td></tr>\n",
       "\t<tr><td>600</td><td>Connecticut</td><td>71.0</td><td>120</td><td> 2.8</td><td>68.2</td></tr>\n",
       "</tbody>\n",
       "</table>\n"
      ],
      "text/latex": [
       "A data.frame: 6 × 6\n",
       "\\begin{tabular}{r|llllll}\n",
       " Location.ID & Location & Value & Rank & Anomaly..1901.2000.base.period. & X1901.2000.Mean\\\\\n",
       " <int> & <fct> & <dbl> & <int> & <dbl> & <dbl>\\\\\n",
       "\\hline\n",
       "\t 100 & Alabama     & 78.8 &  52 & -0.2 & 79.0\\\\\n",
       "\t 200 & Arizona     & 80.5 & 125 &  3.2 & 77.3\\\\\n",
       "\t 300 & Arkansas    & 78.9 &  64 &  0.2 & 78.7\\\\\n",
       "\t 400 & California  & 77.3 & 127 &  5.1 & 72.2\\\\\n",
       "\t 500 & Colorado    & 67.7 & 124 &  3.2 & 64.5\\\\\n",
       "\t 600 & Connecticut & 71.0 & 120 &  2.8 & 68.2\\\\\n",
       "\\end{tabular}\n"
      ],
      "text/markdown": [
       "\n",
       "A data.frame: 6 × 6\n",
       "\n",
       "| Location.ID &lt;int&gt; | Location &lt;fct&gt; | Value &lt;dbl&gt; | Rank &lt;int&gt; | Anomaly..1901.2000.base.period. &lt;dbl&gt; | X1901.2000.Mean &lt;dbl&gt; |\n",
       "|---|---|---|---|---|---|\n",
       "| 100 | Alabama     | 78.8 |  52 | -0.2 | 79.0 |\n",
       "| 200 | Arizona     | 80.5 | 125 |  3.2 | 77.3 |\n",
       "| 300 | Arkansas    | 78.9 |  64 |  0.2 | 78.7 |\n",
       "| 400 | California  | 77.3 | 127 |  5.1 | 72.2 |\n",
       "| 500 | Colorado    | 67.7 | 124 |  3.2 | 64.5 |\n",
       "| 600 | Connecticut | 71.0 | 120 |  2.8 | 68.2 |\n",
       "\n"
      ],
      "text/plain": [
       "  Location.ID Location    Value Rank Anomaly..1901.2000.base.period.\n",
       "1 100         Alabama     78.8   52  -0.2                           \n",
       "2 200         Arizona     80.5  125   3.2                           \n",
       "3 300         Arkansas    78.9   64   0.2                           \n",
       "4 400         California  77.3  127   5.1                           \n",
       "5 500         Colorado    67.7  124   3.2                           \n",
       "6 600         Connecticut 71.0  120   2.8                           \n",
       "  X1901.2000.Mean\n",
       "1 79.0           \n",
       "2 77.3           \n",
       "3 78.7           \n",
       "4 72.2           \n",
       "5 64.5           \n",
       "6 68.2           "
      ]
     },
     "metadata": {},
     "output_type": "display_data"
    },
    {
     "data": {
      "text/html": [
       "<table>\n",
       "<caption>A data.frame: 6 × 6</caption>\n",
       "<thead>\n",
       "\t<tr><th scope=col>Location.ID</th><th scope=col>Location</th><th scope=col>Value</th><th scope=col>Rank</th><th scope=col>Anomaly..1901.2000.base.period.</th><th scope=col>X1901.2000.Mean</th></tr>\n",
       "\t<tr><th scope=col>&lt;int&gt;</th><th scope=col>&lt;fct&gt;</th><th scope=col>&lt;dbl&gt;</th><th scope=col>&lt;int&gt;</th><th scope=col>&lt;dbl&gt;</th><th scope=col>&lt;dbl&gt;</th></tr>\n",
       "</thead>\n",
       "<tbody>\n",
       "\t<tr><td>100</td><td>Alabama    </td><td>46.5</td><td> 61</td><td>-0.1</td><td>46.6</td></tr>\n",
       "\t<tr><td>200</td><td>Arizona    </td><td>43.8</td><td> 93</td><td> 1.5</td><td>42.3</td></tr>\n",
       "\t<tr><td>300</td><td>Arkansas   </td><td>39.6</td><td> 27</td><td>-1.8</td><td>41.4</td></tr>\n",
       "\t<tr><td>400</td><td>California </td><td>46.1</td><td>114</td><td> 2.6</td><td>43.5</td></tr>\n",
       "\t<tr><td>500</td><td>Colorado   </td><td>26.1</td><td> 67</td><td> 0.6</td><td>25.5</td></tr>\n",
       "\t<tr><td>600</td><td>Connecticut</td><td>30.4</td><td>106</td><td> 3.4</td><td>27.0</td></tr>\n",
       "</tbody>\n",
       "</table>\n"
      ],
      "text/latex": [
       "A data.frame: 6 × 6\n",
       "\\begin{tabular}{r|llllll}\n",
       " Location.ID & Location & Value & Rank & Anomaly..1901.2000.base.period. & X1901.2000.Mean\\\\\n",
       " <int> & <fct> & <dbl> & <int> & <dbl> & <dbl>\\\\\n",
       "\\hline\n",
       "\t 100 & Alabama     & 46.5 &  61 & -0.1 & 46.6\\\\\n",
       "\t 200 & Arizona     & 43.8 &  93 &  1.5 & 42.3\\\\\n",
       "\t 300 & Arkansas    & 39.6 &  27 & -1.8 & 41.4\\\\\n",
       "\t 400 & California  & 46.1 & 114 &  2.6 & 43.5\\\\\n",
       "\t 500 & Colorado    & 26.1 &  67 &  0.6 & 25.5\\\\\n",
       "\t 600 & Connecticut & 30.4 & 106 &  3.4 & 27.0\\\\\n",
       "\\end{tabular}\n"
      ],
      "text/markdown": [
       "\n",
       "A data.frame: 6 × 6\n",
       "\n",
       "| Location.ID &lt;int&gt; | Location &lt;fct&gt; | Value &lt;dbl&gt; | Rank &lt;int&gt; | Anomaly..1901.2000.base.period. &lt;dbl&gt; | X1901.2000.Mean &lt;dbl&gt; |\n",
       "|---|---|---|---|---|---|\n",
       "| 100 | Alabama     | 46.5 |  61 | -0.1 | 46.6 |\n",
       "| 200 | Arizona     | 43.8 |  93 |  1.5 | 42.3 |\n",
       "| 300 | Arkansas    | 39.6 |  27 | -1.8 | 41.4 |\n",
       "| 400 | California  | 46.1 | 114 |  2.6 | 43.5 |\n",
       "| 500 | Colorado    | 26.1 |  67 |  0.6 | 25.5 |\n",
       "| 600 | Connecticut | 30.4 | 106 |  3.4 | 27.0 |\n",
       "\n"
      ],
      "text/plain": [
       "  Location.ID Location    Value Rank Anomaly..1901.2000.base.period.\n",
       "1 100         Alabama     46.5   61  -0.1                           \n",
       "2 200         Arizona     43.8   93   1.5                           \n",
       "3 300         Arkansas    39.6   27  -1.8                           \n",
       "4 400         California  46.1  114   2.6                           \n",
       "5 500         Colorado    26.1   67   0.6                           \n",
       "6 600         Connecticut 30.4  106   3.4                           \n",
       "  X1901.2000.Mean\n",
       "1 46.6           \n",
       "2 42.3           \n",
       "3 41.4           \n",
       "4 43.5           \n",
       "5 25.5           \n",
       "6 27.0           "
      ]
     },
     "metadata": {},
     "output_type": "display_data"
    },
    {
     "data": {
      "text/html": [
       "<table>\n",
       "<caption>A data.frame: 6 × 4</caption>\n",
       "<thead>\n",
       "\t<tr><th scope=col>state</th><th scope=col>latcentroid</th><th scope=col>longcentroid</th><th scope=col>name</th></tr>\n",
       "\t<tr><th scope=col>&lt;fct&gt;</th><th scope=col>&lt;dbl&gt;</th><th scope=col>&lt;dbl&gt;</th><th scope=col>&lt;fct&gt;</th></tr>\n",
       "</thead>\n",
       "<tbody>\n",
       "\t<tr><td>AK</td><td>63.58875</td><td>-154.49306</td><td>Alaska    </td></tr>\n",
       "\t<tr><td>AL</td><td>32.31823</td><td> -86.90230</td><td>Alabama   </td></tr>\n",
       "\t<tr><td>AR</td><td>35.20105</td><td> -91.83183</td><td>Arkansas  </td></tr>\n",
       "\t<tr><td>AZ</td><td>34.04893</td><td>-111.09373</td><td>Arizona   </td></tr>\n",
       "\t<tr><td>CA</td><td>36.77826</td><td>-119.41793</td><td>California</td></tr>\n",
       "\t<tr><td>CO</td><td>39.55005</td><td>-105.78207</td><td>Colorado  </td></tr>\n",
       "</tbody>\n",
       "</table>\n"
      ],
      "text/latex": [
       "A data.frame: 6 × 4\n",
       "\\begin{tabular}{r|llll}\n",
       " state & latcentroid & longcentroid & name\\\\\n",
       " <fct> & <dbl> & <dbl> & <fct>\\\\\n",
       "\\hline\n",
       "\t AK & 63.58875 & -154.49306 & Alaska    \\\\\n",
       "\t AL & 32.31823 &  -86.90230 & Alabama   \\\\\n",
       "\t AR & 35.20105 &  -91.83183 & Arkansas  \\\\\n",
       "\t AZ & 34.04893 & -111.09373 & Arizona   \\\\\n",
       "\t CA & 36.77826 & -119.41793 & California\\\\\n",
       "\t CO & 39.55005 & -105.78207 & Colorado  \\\\\n",
       "\\end{tabular}\n"
      ],
      "text/markdown": [
       "\n",
       "A data.frame: 6 × 4\n",
       "\n",
       "| state &lt;fct&gt; | latcentroid &lt;dbl&gt; | longcentroid &lt;dbl&gt; | name &lt;fct&gt; |\n",
       "|---|---|---|---|\n",
       "| AK | 63.58875 | -154.49306 | Alaska     |\n",
       "| AL | 32.31823 |  -86.90230 | Alabama    |\n",
       "| AR | 35.20105 |  -91.83183 | Arkansas   |\n",
       "| AZ | 34.04893 | -111.09373 | Arizona    |\n",
       "| CA | 36.77826 | -119.41793 | California |\n",
       "| CO | 39.55005 | -105.78207 | Colorado   |\n",
       "\n"
      ],
      "text/plain": [
       "  state latcentroid longcentroid name      \n",
       "1 AK    63.58875    -154.49306   Alaska    \n",
       "2 AL    32.31823     -86.90230   Alabama   \n",
       "3 AR    35.20105     -91.83183   Arkansas  \n",
       "4 AZ    34.04893    -111.09373   Arizona   \n",
       "5 CA    36.77826    -119.41793   California\n",
       "6 CO    39.55005    -105.78207   Colorado  "
      ]
     },
     "metadata": {},
     "output_type": "display_data"
    },
    {
     "data": {
      "text/html": [
       "<table>\n",
       "<caption>A data.frame: 6 × 6</caption>\n",
       "<thead>\n",
       "\t<tr><th scope=col>Year</th><th scope=col>total_per_capita_operating.revenue</th><th scope=col>federal</th><th scope=col>state</th><th scope=col>local</th><th scope=col>other</th></tr>\n",
       "\t<tr><th scope=col>&lt;int&gt;</th><th scope=col>&lt;dbl&gt;</th><th scope=col>&lt;dbl&gt;</th><th scope=col>&lt;dbl&gt;</th><th scope=col>&lt;dbl&gt;</th><th scope=col>&lt;dbl&gt;</th></tr>\n",
       "</thead>\n",
       "<tbody>\n",
       "\t<tr><td>2019</td><td>44.88</td><td>0.12</td><td>2.99</td><td>38.55</td><td>3.21</td></tr>\n",
       "\t<tr><td>2018</td><td>43.65</td><td>0.14</td><td>2.90</td><td>37.51</td><td>3.09</td></tr>\n",
       "\t<tr><td>2017</td><td>42.34</td><td>0.15</td><td>2.82</td><td>36.37</td><td>2.99</td></tr>\n",
       "\t<tr><td>2016</td><td>41.04</td><td>0.14</td><td>2.83</td><td>35.19</td><td>2.89</td></tr>\n",
       "\t<tr><td>2015</td><td>39.94</td><td>0.14</td><td>2.83</td><td>34.16</td><td>2.80</td></tr>\n",
       "\t<tr><td>2014</td><td>39.34</td><td>0.15</td><td>2.80</td><td>33.87</td><td>2.94</td></tr>\n",
       "</tbody>\n",
       "</table>\n"
      ],
      "text/latex": [
       "A data.frame: 6 × 6\n",
       "\\begin{tabular}{r|llllll}\n",
       " Year & total\\_per\\_capita\\_operating.revenue & federal & state & local & other\\\\\n",
       " <int> & <dbl> & <dbl> & <dbl> & <dbl> & <dbl>\\\\\n",
       "\\hline\n",
       "\t 2019 & 44.88 & 0.12 & 2.99 & 38.55 & 3.21\\\\\n",
       "\t 2018 & 43.65 & 0.14 & 2.90 & 37.51 & 3.09\\\\\n",
       "\t 2017 & 42.34 & 0.15 & 2.82 & 36.37 & 2.99\\\\\n",
       "\t 2016 & 41.04 & 0.14 & 2.83 & 35.19 & 2.89\\\\\n",
       "\t 2015 & 39.94 & 0.14 & 2.83 & 34.16 & 2.80\\\\\n",
       "\t 2014 & 39.34 & 0.15 & 2.80 & 33.87 & 2.94\\\\\n",
       "\\end{tabular}\n"
      ],
      "text/markdown": [
       "\n",
       "A data.frame: 6 × 6\n",
       "\n",
       "| Year &lt;int&gt; | total_per_capita_operating.revenue &lt;dbl&gt; | federal &lt;dbl&gt; | state &lt;dbl&gt; | local &lt;dbl&gt; | other &lt;dbl&gt; |\n",
       "|---|---|---|---|---|---|\n",
       "| 2019 | 44.88 | 0.12 | 2.99 | 38.55 | 3.21 |\n",
       "| 2018 | 43.65 | 0.14 | 2.90 | 37.51 | 3.09 |\n",
       "| 2017 | 42.34 | 0.15 | 2.82 | 36.37 | 2.99 |\n",
       "| 2016 | 41.04 | 0.14 | 2.83 | 35.19 | 2.89 |\n",
       "| 2015 | 39.94 | 0.14 | 2.83 | 34.16 | 2.80 |\n",
       "| 2014 | 39.34 | 0.15 | 2.80 | 33.87 | 2.94 |\n",
       "\n"
      ],
      "text/plain": [
       "  Year total_per_capita_operating.revenue federal state local other\n",
       "1 2019 44.88                              0.12    2.99  38.55 3.21 \n",
       "2 2018 43.65                              0.14    2.90  37.51 3.09 \n",
       "3 2017 42.34                              0.15    2.82  36.37 2.99 \n",
       "4 2016 41.04                              0.14    2.83  35.19 2.89 \n",
       "5 2015 39.94                              0.14    2.83  34.16 2.80 \n",
       "6 2014 39.34                              0.15    2.80  33.87 2.94 "
      ]
     },
     "metadata": {},
     "output_type": "display_data"
    }
   ],
   "source": [
    "# Read your data here; \n",
    "\n",
    "#U.S. Census Bureau data of how much state and local spending goes to libraries in each state and the population of \n",
    "#each state:\n",
    "#(NOTE: values are in 1000s; The library spend column includes the expenditures made by both the state and local \n",
    "#governments)\n",
    "library_spending <- read.csv(\"library_expenditures.csv\")\n",
    "head(library_spending)\n",
    "\n",
    "#National Centers for Environmental Information 100-year data (1901-2000) on the warmest states between the months \n",
    "#of June and August: \n",
    "\n",
    "warmest_states <- read.csv(\"warmest_states.csv\")\n",
    "head(warmest_states)\n",
    "\n",
    "#National Centers for Environmental Information 100-year data (1901-2000) on the coldest states between the months \n",
    "#of December and February: \n",
    "\n",
    "coldest_states <- read.csv(\"coldest_states.csv\")\n",
    "head(coldest_states)\n",
    "\n",
    "#Centroids for mapping \n",
    "centroids <- read.csv(\"centroids.csv\")\n",
    "head(centroids)\n",
    "\n",
    "#Yearly per capita operating revenue for libraries across the U.S. from the Public Libraries Survey from the Institute \n",
    "#of Museum and Library Services \n",
    "library_operating_revenue <- read.csv(\"library_operating_revenue.csv\")\n",
    "head(library_operating_revenue)"
   ]
  },
  {
   "cell_type": "code",
   "execution_count": 3,
   "metadata": {},
   "outputs": [
    {
     "data": {
      "text/html": [
       "<table>\n",
       "<caption>A data.frame: 6 × 5</caption>\n",
       "<thead>\n",
       "\t<tr><th scope=col>State</th><th scope=col>Total_Expenditures</th><th scope=col>State_and_Local_Library_Spend</th><th scope=col>Population</th><th scope=col>per_capita_library_spend</th></tr>\n",
       "\t<tr><th scope=col>&lt;fct&gt;</th><th scope=col>&lt;dbl&gt;</th><th scope=col>&lt;dbl&gt;</th><th scope=col>&lt;int&gt;</th><th scope=col>&lt;dbl&gt;</th></tr>\n",
       "</thead>\n",
       "<tbody>\n",
       "\t<tr><td>Total     </td><td>3967961549</td><td>13039563</td><td>329484123</td><td>39.57569</td></tr>\n",
       "\t<tr><td>Alabama   </td><td>  50478634</td><td>  104520</td><td>  4921532</td><td>21.23729</td></tr>\n",
       "\t<tr><td>Alaska    </td><td>  14996568</td><td>   36778</td><td>   731158</td><td>50.30103</td></tr>\n",
       "\t<tr><td>Arizona   </td><td>  64120262</td><td>  193091</td><td>  7421401</td><td>26.01813</td></tr>\n",
       "\t<tr><td>Arkansas  </td><td>  28800119</td><td>  101357</td><td>  3030522</td><td>33.44539</td></tr>\n",
       "\t<tr><td>California</td><td> 637923760</td><td> 1760016</td><td> 39368078</td><td>44.70668</td></tr>\n",
       "</tbody>\n",
       "</table>\n"
      ],
      "text/latex": [
       "A data.frame: 6 × 5\n",
       "\\begin{tabular}{r|lllll}\n",
       " State & Total\\_Expenditures & State\\_and\\_Local\\_Library\\_Spend & Population & per\\_capita\\_library\\_spend\\\\\n",
       " <fct> & <dbl> & <dbl> & <int> & <dbl>\\\\\n",
       "\\hline\n",
       "\t Total      & 3967961549 & 13039563 & 329484123 & 39.57569\\\\\n",
       "\t Alabama    &   50478634 &   104520 &   4921532 & 21.23729\\\\\n",
       "\t Alaska     &   14996568 &    36778 &    731158 & 50.30103\\\\\n",
       "\t Arizona    &   64120262 &   193091 &   7421401 & 26.01813\\\\\n",
       "\t Arkansas   &   28800119 &   101357 &   3030522 & 33.44539\\\\\n",
       "\t California &  637923760 &  1760016 &  39368078 & 44.70668\\\\\n",
       "\\end{tabular}\n"
      ],
      "text/markdown": [
       "\n",
       "A data.frame: 6 × 5\n",
       "\n",
       "| State &lt;fct&gt; | Total_Expenditures &lt;dbl&gt; | State_and_Local_Library_Spend &lt;dbl&gt; | Population &lt;int&gt; | per_capita_library_spend &lt;dbl&gt; |\n",
       "|---|---|---|---|---|\n",
       "| Total      | 3967961549 | 13039563 | 329484123 | 39.57569 |\n",
       "| Alabama    |   50478634 |   104520 |   4921532 | 21.23729 |\n",
       "| Alaska     |   14996568 |    36778 |    731158 | 50.30103 |\n",
       "| Arizona    |   64120262 |   193091 |   7421401 | 26.01813 |\n",
       "| Arkansas   |   28800119 |   101357 |   3030522 | 33.44539 |\n",
       "| California |  637923760 |  1760016 |  39368078 | 44.70668 |\n",
       "\n"
      ],
      "text/plain": [
       "  State      Total_Expenditures State_and_Local_Library_Spend Population\n",
       "1 Total      3967961549         13039563                      329484123 \n",
       "2 Alabama      50478634           104520                        4921532 \n",
       "3 Alaska       14996568            36778                         731158 \n",
       "4 Arizona      64120262           193091                        7421401 \n",
       "5 Arkansas     28800119           101357                        3030522 \n",
       "6 California  637923760          1760016                       39368078 \n",
       "  per_capita_library_spend\n",
       "1 39.57569                \n",
       "2 21.23729                \n",
       "3 50.30103                \n",
       "4 26.01813                \n",
       "5 33.44539                \n",
       "6 44.70668                "
      ]
     },
     "metadata": {},
     "output_type": "display_data"
    }
   ],
   "source": [
    "# Clean it up, reformat it, filter it, sort it, group it, etc.\n",
    "\n",
    "#Starting with the library_spending data frame, need to remove the X column and take out the commas in the total \n",
    "#expenditures and library spend columns. \n",
    "\n",
    "suppressMessages(library(tidyverse))\n",
    "library_spending <- library_spending %>%\n",
    "    select(State, Total_Expenditures, State_and_Local_Library_Spend, Population)\n",
    "\n",
    "library_spending$Total_Expenditures <- as.numeric(gsub(\",\",\"\",library_spending$Total_Expenditures))\n",
    "library_spending$State_and_Local_Library_Spend <- as.numeric(gsub(\",\",\"\",library_spending$State_and_Local_Library_Spend))\n",
    "\n",
    "#Now, we need a new column with how much each state spends on their libraries on a per capita basis\n",
    "#The column State_and_Local_Library_Spend is in 1000s while the Population column is accurate. Let's rescale the \n",
    "#State_and_Local_Library_Spend and then get the per_capita. \n",
    "\n",
    "library_spending <- library_spending %>%\n",
    "    mutate(per_capita_library_spend = (1000*State_and_Local_Library_Spend)/Population)\n",
    "\n",
    "head(library_spending)\n",
    "\n"
   ]
  },
  {
   "cell_type": "code",
   "execution_count": 4,
   "metadata": {},
   "outputs": [
    {
     "name": "stderr",
     "output_type": "stream",
     "text": [
      "Warning message:\n",
      "“Column `State` joining factors with different levels, coercing to character vector”Warning message:\n",
      "“Column `State` joining character vector and factor, coercing into character vector”"
     ]
    },
    {
     "data": {
      "text/html": [
       "<table>\n",
       "<caption>A data.frame: 6 × 7</caption>\n",
       "<thead>\n",
       "\t<tr><th scope=col>State</th><th scope=col>Total_Expenditures</th><th scope=col>State_and_Local_Library_Spend</th><th scope=col>Population</th><th scope=col>per_capita_library_spend</th><th scope=col>summer_1901_2000_mean</th><th scope=col>winter_1901_2000_mean</th></tr>\n",
       "\t<tr><th scope=col>&lt;chr&gt;</th><th scope=col>&lt;dbl&gt;</th><th scope=col>&lt;dbl&gt;</th><th scope=col>&lt;int&gt;</th><th scope=col>&lt;dbl&gt;</th><th scope=col>&lt;dbl&gt;</th><th scope=col>&lt;dbl&gt;</th></tr>\n",
       "</thead>\n",
       "<tbody>\n",
       "\t<tr><td>Alabama    </td><td> 50478634</td><td> 104520</td><td> 4921532</td><td>21.23729</td><td>79.0</td><td>46.6</td></tr>\n",
       "\t<tr><td>Arizona    </td><td> 64120262</td><td> 193091</td><td> 7421401</td><td>26.01813</td><td>77.3</td><td>42.3</td></tr>\n",
       "\t<tr><td>Arkansas   </td><td> 28800119</td><td> 101357</td><td> 3030522</td><td>33.44539</td><td>78.7</td><td>41.4</td></tr>\n",
       "\t<tr><td>California </td><td>637923760</td><td>1760016</td><td>39368078</td><td>44.70668</td><td>72.2</td><td>43.5</td></tr>\n",
       "\t<tr><td>Colorado   </td><td> 66252836</td><td> 312871</td><td> 5807719</td><td>53.87158</td><td>64.5</td><td>25.5</td></tr>\n",
       "\t<tr><td>Connecticut</td><td> 43187166</td><td> 182419</td><td> 3557006</td><td>51.28442</td><td>68.2</td><td>27.0</td></tr>\n",
       "</tbody>\n",
       "</table>\n"
      ],
      "text/latex": [
       "A data.frame: 6 × 7\n",
       "\\begin{tabular}{r|lllllll}\n",
       " State & Total\\_Expenditures & State\\_and\\_Local\\_Library\\_Spend & Population & per\\_capita\\_library\\_spend & summer\\_1901\\_2000\\_mean & winter\\_1901\\_2000\\_mean\\\\\n",
       " <chr> & <dbl> & <dbl> & <int> & <dbl> & <dbl> & <dbl>\\\\\n",
       "\\hline\n",
       "\t Alabama     &  50478634 &  104520 &  4921532 & 21.23729 & 79.0 & 46.6\\\\\n",
       "\t Arizona     &  64120262 &  193091 &  7421401 & 26.01813 & 77.3 & 42.3\\\\\n",
       "\t Arkansas    &  28800119 &  101357 &  3030522 & 33.44539 & 78.7 & 41.4\\\\\n",
       "\t California  & 637923760 & 1760016 & 39368078 & 44.70668 & 72.2 & 43.5\\\\\n",
       "\t Colorado    &  66252836 &  312871 &  5807719 & 53.87158 & 64.5 & 25.5\\\\\n",
       "\t Connecticut &  43187166 &  182419 &  3557006 & 51.28442 & 68.2 & 27.0\\\\\n",
       "\\end{tabular}\n"
      ],
      "text/markdown": [
       "\n",
       "A data.frame: 6 × 7\n",
       "\n",
       "| State &lt;chr&gt; | Total_Expenditures &lt;dbl&gt; | State_and_Local_Library_Spend &lt;dbl&gt; | Population &lt;int&gt; | per_capita_library_spend &lt;dbl&gt; | summer_1901_2000_mean &lt;dbl&gt; | winter_1901_2000_mean &lt;dbl&gt; |\n",
       "|---|---|---|---|---|---|---|\n",
       "| Alabama     |  50478634 |  104520 |  4921532 | 21.23729 | 79.0 | 46.6 |\n",
       "| Arizona     |  64120262 |  193091 |  7421401 | 26.01813 | 77.3 | 42.3 |\n",
       "| Arkansas    |  28800119 |  101357 |  3030522 | 33.44539 | 78.7 | 41.4 |\n",
       "| California  | 637923760 | 1760016 | 39368078 | 44.70668 | 72.2 | 43.5 |\n",
       "| Colorado    |  66252836 |  312871 |  5807719 | 53.87158 | 64.5 | 25.5 |\n",
       "| Connecticut |  43187166 |  182419 |  3557006 | 51.28442 | 68.2 | 27.0 |\n",
       "\n"
      ],
      "text/plain": [
       "  State       Total_Expenditures State_and_Local_Library_Spend Population\n",
       "1 Alabama      50478634           104520                        4921532  \n",
       "2 Arizona      64120262           193091                        7421401  \n",
       "3 Arkansas     28800119           101357                        3030522  \n",
       "4 California  637923760          1760016                       39368078  \n",
       "5 Colorado     66252836           312871                        5807719  \n",
       "6 Connecticut  43187166           182419                        3557006  \n",
       "  per_capita_library_spend summer_1901_2000_mean winter_1901_2000_mean\n",
       "1 21.23729                 79.0                  46.6                 \n",
       "2 26.01813                 77.3                  42.3                 \n",
       "3 33.44539                 78.7                  41.4                 \n",
       "4 44.70668                 72.2                  43.5                 \n",
       "5 53.87158                 64.5                  25.5                 \n",
       "6 51.28442                 68.2                  27.0                 "
      ]
     },
     "metadata": {},
     "output_type": "display_data"
    },
    {
     "data": {
      "text/html": [
       "<table>\n",
       "<caption>A data.frame: 48 × 7</caption>\n",
       "<thead>\n",
       "\t<tr><th scope=col>State</th><th scope=col>Total_Expenditures</th><th scope=col>State_and_Local_Library_Spend</th><th scope=col>Population</th><th scope=col>per_capita_library_spend</th><th scope=col>summer_1901_2000_mean</th><th scope=col>winter_1901_2000_mean</th></tr>\n",
       "\t<tr><th scope=col>&lt;chr&gt;</th><th scope=col>&lt;dbl&gt;</th><th scope=col>&lt;dbl&gt;</th><th scope=col>&lt;int&gt;</th><th scope=col>&lt;dbl&gt;</th><th scope=col>&lt;dbl&gt;</th><th scope=col>&lt;dbl&gt;</th></tr>\n",
       "</thead>\n",
       "<tbody>\n",
       "\t<tr><td>Oregon        </td><td> 60238086</td><td> 273114</td><td> 4241507</td><td>64.39079</td><td>62.0</td><td>32.1</td></tr>\n",
       "\t<tr><td>Illinois      </td><td>154656596</td><td> 809822</td><td>12587530</td><td>64.33526</td><td>73.4</td><td>28.1</td></tr>\n",
       "\t<tr><td>New York      </td><td>376911995</td><td>1198710</td><td>19336776</td><td>61.99120</td><td>65.9</td><td>21.8</td></tr>\n",
       "\t<tr><td>Washington    </td><td>100988748</td><td> 442996</td><td> 7693612</td><td>57.57972</td><td>61.8</td><td>30.7</td></tr>\n",
       "\t<tr><td>Indiana       </td><td> 64932440</td><td> 385678</td><td> 6754953</td><td>57.09559</td><td>72.5</td><td>28.8</td></tr>\n",
       "\t<tr><td>Wyoming       </td><td> 10004529</td><td>  32899</td><td>  582328</td><td>56.49565</td><td>62.1</td><td>20.5</td></tr>\n",
       "\t<tr><td>Wisconsin     </td><td> 64904846</td><td> 323015</td><td> 5832655</td><td>55.38044</td><td>66.4</td><td>15.7</td></tr>\n",
       "\t<tr><td>Missouri      </td><td> 59111006</td><td> 332229</td><td> 6151548</td><td>54.00738</td><td>75.6</td><td>32.1</td></tr>\n",
       "\t<tr><td>Colorado      </td><td> 66252836</td><td> 312871</td><td> 5807719</td><td>53.87158</td><td>64.5</td><td>25.5</td></tr>\n",
       "\t<tr><td>Connecticut   </td><td> 43187166</td><td> 182419</td><td> 3557006</td><td>51.28442</td><td>68.2</td><td>27.0</td></tr>\n",
       "\t<tr><td>Kansas        </td><td> 31819175</td><td> 143811</td><td> 2913805</td><td>49.35505</td><td>76.5</td><td>31.3</td></tr>\n",
       "\t<tr><td>Massachusetts </td><td> 98667207</td><td> 334311</td><td> 6893574</td><td>48.49603</td><td>67.2</td><td>25.8</td></tr>\n",
       "\t<tr><td>Iowa          </td><td> 37457000</td><td> 153374</td><td> 3163561</td><td>48.48144</td><td>71.4</td><td>21.1</td></tr>\n",
       "\t<tr><td>Ohio          </td><td>135562208</td><td> 544728</td><td>11693217</td><td>46.58496</td><td>70.9</td><td>28.8</td></tr>\n",
       "\t<tr><td>Nevada        </td><td> 29901817</td><td> 145365</td><td> 3138259</td><td>46.32027</td><td>68.7</td><td>31.7</td></tr>\n",
       "\t<tr><td>Minnesota     </td><td> 72273071</td><td> 254508</td><td> 5657342</td><td>44.98720</td><td>66.2</td><td>10.5</td></tr>\n",
       "\t<tr><td>California    </td><td>637923760</td><td>1760016</td><td>39368078</td><td>44.70668</td><td>72.2</td><td>43.5</td></tr>\n",
       "\t<tr><td>Rhode Island  </td><td> 13691886</td><td>  46870</td><td> 1057125</td><td>44.33724</td><td>67.9</td><td>28.7</td></tr>\n",
       "\t<tr><td>New Hampshire </td><td> 13318172</td><td>  59595</td><td> 1366275</td><td>43.61860</td><td>64.0</td><td>19.1</td></tr>\n",
       "\t<tr><td>Louisiana     </td><td> 50911077</td><td> 193700</td><td> 4645318</td><td>41.69790</td><td>81.0</td><td>50.9</td></tr>\n",
       "\t<tr><td>Michigan      </td><td>108263852</td><td> 410316</td><td> 9966555</td><td>41.16929</td><td>65.8</td><td>20.2</td></tr>\n",
       "\t<tr><td>Delaware      </td><td> 12887660</td><td>  39937</td><td>  986809</td><td>40.47085</td><td>73.3</td><td>34.6</td></tr>\n",
       "\t<tr><td>Virginia      </td><td> 90750407</td><td> 337853</td><td> 8590563</td><td>39.32839</td><td>72.9</td><td>36.1</td></tr>\n",
       "\t<tr><td>South Carolina</td><td> 53530279</td><td> 201999</td><td> 5218040</td><td>38.71166</td><td>78.5</td><td>45.7</td></tr>\n",
       "\t<tr><td>Nebraska      </td><td> 23852207</td><td>  74961</td><td> 1937552</td><td>38.68851</td><td>71.8</td><td>24.7</td></tr>\n",
       "\t<tr><td>Utah          </td><td> 34627253</td><td> 125630</td><td> 3249879</td><td>38.65682</td><td>68.3</td><td>27.6</td></tr>\n",
       "\t<tr><td>Vermont       </td><td>  8658827</td><td>  23813</td><td>  623347</td><td>38.20184</td><td>63.5</td><td>17.4</td></tr>\n",
       "\t<tr><td>New Jersey    </td><td>112916241</td><td> 339248</td><td> 8882371</td><td>38.19341</td><td>71.2</td><td>31.0</td></tr>\n",
       "\t<tr><td>Kentucky      </td><td> 46705173</td><td> 168592</td><td> 4477251</td><td>37.65525</td><td>74.6</td><td>35.5</td></tr>\n",
       "\t<tr><td>Maine         </td><td> 13786101</td><td>  48766</td><td> 1350141</td><td>36.11919</td><td>62.8</td><td>15.6</td></tr>\n",
       "\t<tr><td>South Dakota  </td><td>  8310069</td><td>  31290</td><td>  892717</td><td>35.05030</td><td>69.6</td><td>18.2</td></tr>\n",
       "\t<tr><td>Idaho         </td><td> 15294592</td><td>  61800</td><td> 1826913</td><td>33.82756</td><td>61.8</td><td>24.1</td></tr>\n",
       "\t<tr><td>Arkansas      </td><td> 28800119</td><td> 101357</td><td> 3030522</td><td>33.44539</td><td>78.7</td><td>41.4</td></tr>\n",
       "\t<tr><td>Florida       </td><td>198897417</td><td> 663781</td><td>21733312</td><td>30.54210</td><td>80.6</td><td>58.7</td></tr>\n",
       "\t<tr><td>Maryland      </td><td> 75513685</td><td> 181633</td><td> 6055802</td><td>29.99322</td><td>73.0</td><td>33.9</td></tr>\n",
       "\t<tr><td>West Virginia </td><td> 18821581</td><td>  52108</td><td> 1784787</td><td>29.19564</td><td>70.1</td><td>32.1</td></tr>\n",
       "\t<tr><td>North Dakota  </td><td> 10276071</td><td>  22126</td><td>  765309</td><td>28.91120</td><td>66.3</td><td>10.4</td></tr>\n",
       "\t<tr><td>North Carolina</td><td>102029831</td><td> 301197</td><td>10600823</td><td>28.41261</td><td>75.3</td><td>41.2</td></tr>\n",
       "\t<tr><td>Montana       </td><td> 11238533</td><td>  30470</td><td> 1080577</td><td>28.19790</td><td>62.7</td><td>19.6</td></tr>\n",
       "\t<tr><td>Oklahoma      </td><td> 36263054</td><td> 111696</td><td> 3980783</td><td>28.05880</td><td>79.9</td><td>38.9</td></tr>\n",
       "\t<tr><td>Arizona       </td><td> 64120262</td><td> 193091</td><td> 7421401</td><td>26.01813</td><td>77.3</td><td>42.3</td></tr>\n",
       "\t<tr><td>Tennessee     </td><td> 65771677</td><td> 154243</td><td> 6886834</td><td>22.39679</td><td>75.6</td><td>38.9</td></tr>\n",
       "\t<tr><td>Alabama       </td><td> 50478634</td><td> 104520</td><td> 4921532</td><td>21.23729</td><td>79.0</td><td>46.6</td></tr>\n",
       "\t<tr><td>Texas         </td><td>290641318</td><td> 623508</td><td>29360759</td><td>21.23610</td><td>81.2</td><td>47.2</td></tr>\n",
       "\t<tr><td>Mississippi   </td><td> 30664211</td><td>  55032</td><td> 2966786</td><td>18.54937</td><td>79.8</td><td>46.8</td></tr>\n",
       "\t<tr><td>New Mexico    </td><td> 26131627</td><td>  38877</td><td> 2106319</td><td>18.45732</td><td>70.9</td><td>35.3</td></tr>\n",
       "\t<tr><td>Georgia       </td><td> 92256088</td><td> 191871</td><td>10710017</td><td>17.91510</td><td>78.7</td><td>47.3</td></tr>\n",
       "\t<tr><td>Pennsylvania  </td><td>159907906</td><td> 211690</td><td>12783254</td><td>16.55995</td><td>68.3</td><td>26.9</td></tr>\n",
       "</tbody>\n",
       "</table>\n"
      ],
      "text/latex": [
       "A data.frame: 48 × 7\n",
       "\\begin{tabular}{r|lllllll}\n",
       " State & Total\\_Expenditures & State\\_and\\_Local\\_Library\\_Spend & Population & per\\_capita\\_library\\_spend & summer\\_1901\\_2000\\_mean & winter\\_1901\\_2000\\_mean\\\\\n",
       " <chr> & <dbl> & <dbl> & <int> & <dbl> & <dbl> & <dbl>\\\\\n",
       "\\hline\n",
       "\t Oregon         &  60238086 &  273114 &  4241507 & 64.39079 & 62.0 & 32.1\\\\\n",
       "\t Illinois       & 154656596 &  809822 & 12587530 & 64.33526 & 73.4 & 28.1\\\\\n",
       "\t New York       & 376911995 & 1198710 & 19336776 & 61.99120 & 65.9 & 21.8\\\\\n",
       "\t Washington     & 100988748 &  442996 &  7693612 & 57.57972 & 61.8 & 30.7\\\\\n",
       "\t Indiana        &  64932440 &  385678 &  6754953 & 57.09559 & 72.5 & 28.8\\\\\n",
       "\t Wyoming        &  10004529 &   32899 &   582328 & 56.49565 & 62.1 & 20.5\\\\\n",
       "\t Wisconsin      &  64904846 &  323015 &  5832655 & 55.38044 & 66.4 & 15.7\\\\\n",
       "\t Missouri       &  59111006 &  332229 &  6151548 & 54.00738 & 75.6 & 32.1\\\\\n",
       "\t Colorado       &  66252836 &  312871 &  5807719 & 53.87158 & 64.5 & 25.5\\\\\n",
       "\t Connecticut    &  43187166 &  182419 &  3557006 & 51.28442 & 68.2 & 27.0\\\\\n",
       "\t Kansas         &  31819175 &  143811 &  2913805 & 49.35505 & 76.5 & 31.3\\\\\n",
       "\t Massachusetts  &  98667207 &  334311 &  6893574 & 48.49603 & 67.2 & 25.8\\\\\n",
       "\t Iowa           &  37457000 &  153374 &  3163561 & 48.48144 & 71.4 & 21.1\\\\\n",
       "\t Ohio           & 135562208 &  544728 & 11693217 & 46.58496 & 70.9 & 28.8\\\\\n",
       "\t Nevada         &  29901817 &  145365 &  3138259 & 46.32027 & 68.7 & 31.7\\\\\n",
       "\t Minnesota      &  72273071 &  254508 &  5657342 & 44.98720 & 66.2 & 10.5\\\\\n",
       "\t California     & 637923760 & 1760016 & 39368078 & 44.70668 & 72.2 & 43.5\\\\\n",
       "\t Rhode Island   &  13691886 &   46870 &  1057125 & 44.33724 & 67.9 & 28.7\\\\\n",
       "\t New Hampshire  &  13318172 &   59595 &  1366275 & 43.61860 & 64.0 & 19.1\\\\\n",
       "\t Louisiana      &  50911077 &  193700 &  4645318 & 41.69790 & 81.0 & 50.9\\\\\n",
       "\t Michigan       & 108263852 &  410316 &  9966555 & 41.16929 & 65.8 & 20.2\\\\\n",
       "\t Delaware       &  12887660 &   39937 &   986809 & 40.47085 & 73.3 & 34.6\\\\\n",
       "\t Virginia       &  90750407 &  337853 &  8590563 & 39.32839 & 72.9 & 36.1\\\\\n",
       "\t South Carolina &  53530279 &  201999 &  5218040 & 38.71166 & 78.5 & 45.7\\\\\n",
       "\t Nebraska       &  23852207 &   74961 &  1937552 & 38.68851 & 71.8 & 24.7\\\\\n",
       "\t Utah           &  34627253 &  125630 &  3249879 & 38.65682 & 68.3 & 27.6\\\\\n",
       "\t Vermont        &   8658827 &   23813 &   623347 & 38.20184 & 63.5 & 17.4\\\\\n",
       "\t New Jersey     & 112916241 &  339248 &  8882371 & 38.19341 & 71.2 & 31.0\\\\\n",
       "\t Kentucky       &  46705173 &  168592 &  4477251 & 37.65525 & 74.6 & 35.5\\\\\n",
       "\t Maine          &  13786101 &   48766 &  1350141 & 36.11919 & 62.8 & 15.6\\\\\n",
       "\t South Dakota   &   8310069 &   31290 &   892717 & 35.05030 & 69.6 & 18.2\\\\\n",
       "\t Idaho          &  15294592 &   61800 &  1826913 & 33.82756 & 61.8 & 24.1\\\\\n",
       "\t Arkansas       &  28800119 &  101357 &  3030522 & 33.44539 & 78.7 & 41.4\\\\\n",
       "\t Florida        & 198897417 &  663781 & 21733312 & 30.54210 & 80.6 & 58.7\\\\\n",
       "\t Maryland       &  75513685 &  181633 &  6055802 & 29.99322 & 73.0 & 33.9\\\\\n",
       "\t West Virginia  &  18821581 &   52108 &  1784787 & 29.19564 & 70.1 & 32.1\\\\\n",
       "\t North Dakota   &  10276071 &   22126 &   765309 & 28.91120 & 66.3 & 10.4\\\\\n",
       "\t North Carolina & 102029831 &  301197 & 10600823 & 28.41261 & 75.3 & 41.2\\\\\n",
       "\t Montana        &  11238533 &   30470 &  1080577 & 28.19790 & 62.7 & 19.6\\\\\n",
       "\t Oklahoma       &  36263054 &  111696 &  3980783 & 28.05880 & 79.9 & 38.9\\\\\n",
       "\t Arizona        &  64120262 &  193091 &  7421401 & 26.01813 & 77.3 & 42.3\\\\\n",
       "\t Tennessee      &  65771677 &  154243 &  6886834 & 22.39679 & 75.6 & 38.9\\\\\n",
       "\t Alabama        &  50478634 &  104520 &  4921532 & 21.23729 & 79.0 & 46.6\\\\\n",
       "\t Texas          & 290641318 &  623508 & 29360759 & 21.23610 & 81.2 & 47.2\\\\\n",
       "\t Mississippi    &  30664211 &   55032 &  2966786 & 18.54937 & 79.8 & 46.8\\\\\n",
       "\t New Mexico     &  26131627 &   38877 &  2106319 & 18.45732 & 70.9 & 35.3\\\\\n",
       "\t Georgia        &  92256088 &  191871 & 10710017 & 17.91510 & 78.7 & 47.3\\\\\n",
       "\t Pennsylvania   & 159907906 &  211690 & 12783254 & 16.55995 & 68.3 & 26.9\\\\\n",
       "\\end{tabular}\n"
      ],
      "text/markdown": [
       "\n",
       "A data.frame: 48 × 7\n",
       "\n",
       "| State &lt;chr&gt; | Total_Expenditures &lt;dbl&gt; | State_and_Local_Library_Spend &lt;dbl&gt; | Population &lt;int&gt; | per_capita_library_spend &lt;dbl&gt; | summer_1901_2000_mean &lt;dbl&gt; | winter_1901_2000_mean &lt;dbl&gt; |\n",
       "|---|---|---|---|---|---|---|\n",
       "| Oregon         |  60238086 |  273114 |  4241507 | 64.39079 | 62.0 | 32.1 |\n",
       "| Illinois       | 154656596 |  809822 | 12587530 | 64.33526 | 73.4 | 28.1 |\n",
       "| New York       | 376911995 | 1198710 | 19336776 | 61.99120 | 65.9 | 21.8 |\n",
       "| Washington     | 100988748 |  442996 |  7693612 | 57.57972 | 61.8 | 30.7 |\n",
       "| Indiana        |  64932440 |  385678 |  6754953 | 57.09559 | 72.5 | 28.8 |\n",
       "| Wyoming        |  10004529 |   32899 |   582328 | 56.49565 | 62.1 | 20.5 |\n",
       "| Wisconsin      |  64904846 |  323015 |  5832655 | 55.38044 | 66.4 | 15.7 |\n",
       "| Missouri       |  59111006 |  332229 |  6151548 | 54.00738 | 75.6 | 32.1 |\n",
       "| Colorado       |  66252836 |  312871 |  5807719 | 53.87158 | 64.5 | 25.5 |\n",
       "| Connecticut    |  43187166 |  182419 |  3557006 | 51.28442 | 68.2 | 27.0 |\n",
       "| Kansas         |  31819175 |  143811 |  2913805 | 49.35505 | 76.5 | 31.3 |\n",
       "| Massachusetts  |  98667207 |  334311 |  6893574 | 48.49603 | 67.2 | 25.8 |\n",
       "| Iowa           |  37457000 |  153374 |  3163561 | 48.48144 | 71.4 | 21.1 |\n",
       "| Ohio           | 135562208 |  544728 | 11693217 | 46.58496 | 70.9 | 28.8 |\n",
       "| Nevada         |  29901817 |  145365 |  3138259 | 46.32027 | 68.7 | 31.7 |\n",
       "| Minnesota      |  72273071 |  254508 |  5657342 | 44.98720 | 66.2 | 10.5 |\n",
       "| California     | 637923760 | 1760016 | 39368078 | 44.70668 | 72.2 | 43.5 |\n",
       "| Rhode Island   |  13691886 |   46870 |  1057125 | 44.33724 | 67.9 | 28.7 |\n",
       "| New Hampshire  |  13318172 |   59595 |  1366275 | 43.61860 | 64.0 | 19.1 |\n",
       "| Louisiana      |  50911077 |  193700 |  4645318 | 41.69790 | 81.0 | 50.9 |\n",
       "| Michigan       | 108263852 |  410316 |  9966555 | 41.16929 | 65.8 | 20.2 |\n",
       "| Delaware       |  12887660 |   39937 |   986809 | 40.47085 | 73.3 | 34.6 |\n",
       "| Virginia       |  90750407 |  337853 |  8590563 | 39.32839 | 72.9 | 36.1 |\n",
       "| South Carolina |  53530279 |  201999 |  5218040 | 38.71166 | 78.5 | 45.7 |\n",
       "| Nebraska       |  23852207 |   74961 |  1937552 | 38.68851 | 71.8 | 24.7 |\n",
       "| Utah           |  34627253 |  125630 |  3249879 | 38.65682 | 68.3 | 27.6 |\n",
       "| Vermont        |   8658827 |   23813 |   623347 | 38.20184 | 63.5 | 17.4 |\n",
       "| New Jersey     | 112916241 |  339248 |  8882371 | 38.19341 | 71.2 | 31.0 |\n",
       "| Kentucky       |  46705173 |  168592 |  4477251 | 37.65525 | 74.6 | 35.5 |\n",
       "| Maine          |  13786101 |   48766 |  1350141 | 36.11919 | 62.8 | 15.6 |\n",
       "| South Dakota   |   8310069 |   31290 |   892717 | 35.05030 | 69.6 | 18.2 |\n",
       "| Idaho          |  15294592 |   61800 |  1826913 | 33.82756 | 61.8 | 24.1 |\n",
       "| Arkansas       |  28800119 |  101357 |  3030522 | 33.44539 | 78.7 | 41.4 |\n",
       "| Florida        | 198897417 |  663781 | 21733312 | 30.54210 | 80.6 | 58.7 |\n",
       "| Maryland       |  75513685 |  181633 |  6055802 | 29.99322 | 73.0 | 33.9 |\n",
       "| West Virginia  |  18821581 |   52108 |  1784787 | 29.19564 | 70.1 | 32.1 |\n",
       "| North Dakota   |  10276071 |   22126 |   765309 | 28.91120 | 66.3 | 10.4 |\n",
       "| North Carolina | 102029831 |  301197 | 10600823 | 28.41261 | 75.3 | 41.2 |\n",
       "| Montana        |  11238533 |   30470 |  1080577 | 28.19790 | 62.7 | 19.6 |\n",
       "| Oklahoma       |  36263054 |  111696 |  3980783 | 28.05880 | 79.9 | 38.9 |\n",
       "| Arizona        |  64120262 |  193091 |  7421401 | 26.01813 | 77.3 | 42.3 |\n",
       "| Tennessee      |  65771677 |  154243 |  6886834 | 22.39679 | 75.6 | 38.9 |\n",
       "| Alabama        |  50478634 |  104520 |  4921532 | 21.23729 | 79.0 | 46.6 |\n",
       "| Texas          | 290641318 |  623508 | 29360759 | 21.23610 | 81.2 | 47.2 |\n",
       "| Mississippi    |  30664211 |   55032 |  2966786 | 18.54937 | 79.8 | 46.8 |\n",
       "| New Mexico     |  26131627 |   38877 |  2106319 | 18.45732 | 70.9 | 35.3 |\n",
       "| Georgia        |  92256088 |  191871 | 10710017 | 17.91510 | 78.7 | 47.3 |\n",
       "| Pennsylvania   | 159907906 |  211690 | 12783254 | 16.55995 | 68.3 | 26.9 |\n",
       "\n"
      ],
      "text/plain": [
       "   State          Total_Expenditures State_and_Local_Library_Spend Population\n",
       "1  Oregon          60238086           273114                        4241507  \n",
       "2  Illinois       154656596           809822                       12587530  \n",
       "3  New York       376911995          1198710                       19336776  \n",
       "4  Washington     100988748           442996                        7693612  \n",
       "5  Indiana         64932440           385678                        6754953  \n",
       "6  Wyoming         10004529            32899                         582328  \n",
       "7  Wisconsin       64904846           323015                        5832655  \n",
       "8  Missouri        59111006           332229                        6151548  \n",
       "9  Colorado        66252836           312871                        5807719  \n",
       "10 Connecticut     43187166           182419                        3557006  \n",
       "11 Kansas          31819175           143811                        2913805  \n",
       "12 Massachusetts   98667207           334311                        6893574  \n",
       "13 Iowa            37457000           153374                        3163561  \n",
       "14 Ohio           135562208           544728                       11693217  \n",
       "15 Nevada          29901817           145365                        3138259  \n",
       "16 Minnesota       72273071           254508                        5657342  \n",
       "17 California     637923760          1760016                       39368078  \n",
       "18 Rhode Island    13691886            46870                        1057125  \n",
       "19 New Hampshire   13318172            59595                        1366275  \n",
       "20 Louisiana       50911077           193700                        4645318  \n",
       "21 Michigan       108263852           410316                        9966555  \n",
       "22 Delaware        12887660            39937                         986809  \n",
       "23 Virginia        90750407           337853                        8590563  \n",
       "24 South Carolina  53530279           201999                        5218040  \n",
       "25 Nebraska        23852207            74961                        1937552  \n",
       "26 Utah            34627253           125630                        3249879  \n",
       "27 Vermont          8658827            23813                         623347  \n",
       "28 New Jersey     112916241           339248                        8882371  \n",
       "29 Kentucky        46705173           168592                        4477251  \n",
       "30 Maine           13786101            48766                        1350141  \n",
       "31 South Dakota     8310069            31290                         892717  \n",
       "32 Idaho           15294592            61800                        1826913  \n",
       "33 Arkansas        28800119           101357                        3030522  \n",
       "34 Florida        198897417           663781                       21733312  \n",
       "35 Maryland        75513685           181633                        6055802  \n",
       "36 West Virginia   18821581            52108                        1784787  \n",
       "37 North Dakota    10276071            22126                         765309  \n",
       "38 North Carolina 102029831           301197                       10600823  \n",
       "39 Montana         11238533            30470                        1080577  \n",
       "40 Oklahoma        36263054           111696                        3980783  \n",
       "41 Arizona         64120262           193091                        7421401  \n",
       "42 Tennessee       65771677           154243                        6886834  \n",
       "43 Alabama         50478634           104520                        4921532  \n",
       "44 Texas          290641318           623508                       29360759  \n",
       "45 Mississippi     30664211            55032                        2966786  \n",
       "46 New Mexico      26131627            38877                        2106319  \n",
       "47 Georgia         92256088           191871                       10710017  \n",
       "48 Pennsylvania   159907906           211690                       12783254  \n",
       "   per_capita_library_spend summer_1901_2000_mean winter_1901_2000_mean\n",
       "1  64.39079                 62.0                  32.1                 \n",
       "2  64.33526                 73.4                  28.1                 \n",
       "3  61.99120                 65.9                  21.8                 \n",
       "4  57.57972                 61.8                  30.7                 \n",
       "5  57.09559                 72.5                  28.8                 \n",
       "6  56.49565                 62.1                  20.5                 \n",
       "7  55.38044                 66.4                  15.7                 \n",
       "8  54.00738                 75.6                  32.1                 \n",
       "9  53.87158                 64.5                  25.5                 \n",
       "10 51.28442                 68.2                  27.0                 \n",
       "11 49.35505                 76.5                  31.3                 \n",
       "12 48.49603                 67.2                  25.8                 \n",
       "13 48.48144                 71.4                  21.1                 \n",
       "14 46.58496                 70.9                  28.8                 \n",
       "15 46.32027                 68.7                  31.7                 \n",
       "16 44.98720                 66.2                  10.5                 \n",
       "17 44.70668                 72.2                  43.5                 \n",
       "18 44.33724                 67.9                  28.7                 \n",
       "19 43.61860                 64.0                  19.1                 \n",
       "20 41.69790                 81.0                  50.9                 \n",
       "21 41.16929                 65.8                  20.2                 \n",
       "22 40.47085                 73.3                  34.6                 \n",
       "23 39.32839                 72.9                  36.1                 \n",
       "24 38.71166                 78.5                  45.7                 \n",
       "25 38.68851                 71.8                  24.7                 \n",
       "26 38.65682                 68.3                  27.6                 \n",
       "27 38.20184                 63.5                  17.4                 \n",
       "28 38.19341                 71.2                  31.0                 \n",
       "29 37.65525                 74.6                  35.5                 \n",
       "30 36.11919                 62.8                  15.6                 \n",
       "31 35.05030                 69.6                  18.2                 \n",
       "32 33.82756                 61.8                  24.1                 \n",
       "33 33.44539                 78.7                  41.4                 \n",
       "34 30.54210                 80.6                  58.7                 \n",
       "35 29.99322                 73.0                  33.9                 \n",
       "36 29.19564                 70.1                  32.1                 \n",
       "37 28.91120                 66.3                  10.4                 \n",
       "38 28.41261                 75.3                  41.2                 \n",
       "39 28.19790                 62.7                  19.6                 \n",
       "40 28.05880                 79.9                  38.9                 \n",
       "41 26.01813                 77.3                  42.3                 \n",
       "42 22.39679                 75.6                  38.9                 \n",
       "43 21.23729                 79.0                  46.6                 \n",
       "44 21.23610                 81.2                  47.2                 \n",
       "45 18.54937                 79.8                  46.8                 \n",
       "46 18.45732                 70.9                  35.3                 \n",
       "47 17.91510                 78.7                  47.3                 \n",
       "48 16.55995                 68.3                  26.9                 "
      ]
     },
     "metadata": {},
     "output_type": "display_data"
    }
   ],
   "source": [
    "#Now we can move on to our temperature datasets \n",
    "\n",
    "#We only need the Location and X1901.2000.Mean columns (We can rename this to summer_1901_2000_mean)\n",
    "\n",
    "warmest_states <- warmest_states %>%\n",
    "    select(Location, X1901.2000.Mean) %>%\n",
    "    rename(summer_1901_2000_mean = X1901.2000.Mean) %>%\n",
    "    rename(State = Location)\n",
    "\n",
    "#Same goes for the coldest_states \n",
    "\n",
    "coldest_states <- coldest_states %>%\n",
    "    select(Location, X1901.2000.Mean) %>%\n",
    "    rename(winter_1901_2000_mean = X1901.2000.Mean) %>%\n",
    "    rename(State = Location)\n",
    "\n",
    "#Merging our library expenditure and temperature datasets \n",
    "merged <- library_spending %>% inner_join(warmest_states, by=\"State\")\n",
    "merged_library_temps <- merged %>% inner_join(coldest_states, by=\"State\")\n",
    "head(merged_library_temps)\n",
    "\n",
    "merged_library_temps %>%\n",
    "arrange(desc(per_capita_library_spend))\n"
   ]
  },
  {
   "cell_type": "code",
   "execution_count": 19,
   "metadata": {},
   "outputs": [
    {
     "data": {
      "text/html": [
       "<table>\n",
       "<caption>A data.frame: 70 × 3</caption>\n",
       "<thead>\n",
       "\t<tr><th scope=col>Year</th><th scope=col>type</th><th scope=col>values</th></tr>\n",
       "\t<tr><th scope=col>&lt;fct&gt;</th><th scope=col>&lt;chr&gt;</th><th scope=col>&lt;dbl&gt;</th></tr>\n",
       "</thead>\n",
       "<tbody>\n",
       "\t<tr><td>2019</td><td>total  </td><td>44.88</td></tr>\n",
       "\t<tr><td>2018</td><td>total  </td><td>43.65</td></tr>\n",
       "\t<tr><td>2017</td><td>total  </td><td>42.34</td></tr>\n",
       "\t<tr><td>2016</td><td>total  </td><td>41.04</td></tr>\n",
       "\t<tr><td>2015</td><td>total  </td><td>39.94</td></tr>\n",
       "\t<tr><td>2014</td><td>total  </td><td>39.34</td></tr>\n",
       "\t<tr><td>2013</td><td>total  </td><td>37.90</td></tr>\n",
       "\t<tr><td>2012</td><td>total  </td><td>37.98</td></tr>\n",
       "\t<tr><td>2011</td><td>total  </td><td>38.09</td></tr>\n",
       "\t<tr><td>2010</td><td>total  </td><td>37.97</td></tr>\n",
       "\t<tr><td>2009</td><td>total  </td><td>39.01</td></tr>\n",
       "\t<tr><td>2008</td><td>total  </td><td>38.62</td></tr>\n",
       "\t<tr><td>2007</td><td>total  </td><td>37.66</td></tr>\n",
       "\t<tr><td>2006</td><td>total  </td><td>35.64</td></tr>\n",
       "\t<tr><td>2019</td><td>federal</td><td> 0.12</td></tr>\n",
       "\t<tr><td>2018</td><td>federal</td><td> 0.14</td></tr>\n",
       "\t<tr><td>2017</td><td>federal</td><td> 0.15</td></tr>\n",
       "\t<tr><td>2016</td><td>federal</td><td> 0.14</td></tr>\n",
       "\t<tr><td>2015</td><td>federal</td><td> 0.14</td></tr>\n",
       "\t<tr><td>2014</td><td>federal</td><td> 0.15</td></tr>\n",
       "\t<tr><td>2013</td><td>federal</td><td> 0.17</td></tr>\n",
       "\t<tr><td>2012</td><td>federal</td><td> 0.20</td></tr>\n",
       "\t<tr><td>2011</td><td>federal</td><td> 0.19</td></tr>\n",
       "\t<tr><td>2010</td><td>federal</td><td> 0.18</td></tr>\n",
       "\t<tr><td>2009</td><td>federal</td><td> 0.16</td></tr>\n",
       "\t<tr><td>2008</td><td>federal</td><td> 0.17</td></tr>\n",
       "\t<tr><td>2007</td><td>federal</td><td> 0.16</td></tr>\n",
       "\t<tr><td>2006</td><td>federal</td><td> 0.17</td></tr>\n",
       "\t<tr><td>2019</td><td>state  </td><td> 2.99</td></tr>\n",
       "\t<tr><td>2018</td><td>state  </td><td> 2.90</td></tr>\n",
       "\t<tr><td>⋮</td><td>⋮</td><td>⋮</td></tr>\n",
       "\t<tr><td>2007</td><td>state</td><td> 3.39</td></tr>\n",
       "\t<tr><td>2006</td><td>state</td><td> 3.27</td></tr>\n",
       "\t<tr><td>2019</td><td>local</td><td>38.55</td></tr>\n",
       "\t<tr><td>2018</td><td>local</td><td>37.51</td></tr>\n",
       "\t<tr><td>2017</td><td>local</td><td>36.37</td></tr>\n",
       "\t<tr><td>2016</td><td>local</td><td>35.19</td></tr>\n",
       "\t<tr><td>2015</td><td>local</td><td>34.16</td></tr>\n",
       "\t<tr><td>2014</td><td>local</td><td>33.87</td></tr>\n",
       "\t<tr><td>2013</td><td>local</td><td>32.14</td></tr>\n",
       "\t<tr><td>2012</td><td>local</td><td>32.05</td></tr>\n",
       "\t<tr><td>2011</td><td>local</td><td>32.28</td></tr>\n",
       "\t<tr><td>2010</td><td>local</td><td>32.21</td></tr>\n",
       "\t<tr><td>2009</td><td>local</td><td>32.83</td></tr>\n",
       "\t<tr><td>2008</td><td>local</td><td>31.94</td></tr>\n",
       "\t<tr><td>2007</td><td>local</td><td>30.81</td></tr>\n",
       "\t<tr><td>2006</td><td>local</td><td>29.11</td></tr>\n",
       "\t<tr><td>2019</td><td>other</td><td> 3.21</td></tr>\n",
       "\t<tr><td>2018</td><td>other</td><td> 3.09</td></tr>\n",
       "\t<tr><td>2017</td><td>other</td><td> 2.99</td></tr>\n",
       "\t<tr><td>2016</td><td>other</td><td> 2.89</td></tr>\n",
       "\t<tr><td>2015</td><td>other</td><td> 2.80</td></tr>\n",
       "\t<tr><td>2014</td><td>other</td><td> 2.94</td></tr>\n",
       "\t<tr><td>2013</td><td>other</td><td> 2.60</td></tr>\n",
       "\t<tr><td>2012</td><td>other</td><td> 3.13</td></tr>\n",
       "\t<tr><td>2011</td><td>other</td><td> 2.75</td></tr>\n",
       "\t<tr><td>2010</td><td>other</td><td> 2.90</td></tr>\n",
       "\t<tr><td>2009</td><td>other</td><td> 3.08</td></tr>\n",
       "\t<tr><td>2008</td><td>other</td><td> 3.16</td></tr>\n",
       "\t<tr><td>2007</td><td>other</td><td> 3.29</td></tr>\n",
       "\t<tr><td>2006</td><td>other</td><td> 3.09</td></tr>\n",
       "</tbody>\n",
       "</table>\n"
      ],
      "text/latex": [
       "A data.frame: 70 × 3\n",
       "\\begin{tabular}{r|lll}\n",
       " Year & type & values\\\\\n",
       " <fct> & <chr> & <dbl>\\\\\n",
       "\\hline\n",
       "\t 2019 & total   & 44.88\\\\\n",
       "\t 2018 & total   & 43.65\\\\\n",
       "\t 2017 & total   & 42.34\\\\\n",
       "\t 2016 & total   & 41.04\\\\\n",
       "\t 2015 & total   & 39.94\\\\\n",
       "\t 2014 & total   & 39.34\\\\\n",
       "\t 2013 & total   & 37.90\\\\\n",
       "\t 2012 & total   & 37.98\\\\\n",
       "\t 2011 & total   & 38.09\\\\\n",
       "\t 2010 & total   & 37.97\\\\\n",
       "\t 2009 & total   & 39.01\\\\\n",
       "\t 2008 & total   & 38.62\\\\\n",
       "\t 2007 & total   & 37.66\\\\\n",
       "\t 2006 & total   & 35.64\\\\\n",
       "\t 2019 & federal &  0.12\\\\\n",
       "\t 2018 & federal &  0.14\\\\\n",
       "\t 2017 & federal &  0.15\\\\\n",
       "\t 2016 & federal &  0.14\\\\\n",
       "\t 2015 & federal &  0.14\\\\\n",
       "\t 2014 & federal &  0.15\\\\\n",
       "\t 2013 & federal &  0.17\\\\\n",
       "\t 2012 & federal &  0.20\\\\\n",
       "\t 2011 & federal &  0.19\\\\\n",
       "\t 2010 & federal &  0.18\\\\\n",
       "\t 2009 & federal &  0.16\\\\\n",
       "\t 2008 & federal &  0.17\\\\\n",
       "\t 2007 & federal &  0.16\\\\\n",
       "\t 2006 & federal &  0.17\\\\\n",
       "\t 2019 & state   &  2.99\\\\\n",
       "\t 2018 & state   &  2.90\\\\\n",
       "\t ⋮ & ⋮ & ⋮\\\\\n",
       "\t 2007 & state &  3.39\\\\\n",
       "\t 2006 & state &  3.27\\\\\n",
       "\t 2019 & local & 38.55\\\\\n",
       "\t 2018 & local & 37.51\\\\\n",
       "\t 2017 & local & 36.37\\\\\n",
       "\t 2016 & local & 35.19\\\\\n",
       "\t 2015 & local & 34.16\\\\\n",
       "\t 2014 & local & 33.87\\\\\n",
       "\t 2013 & local & 32.14\\\\\n",
       "\t 2012 & local & 32.05\\\\\n",
       "\t 2011 & local & 32.28\\\\\n",
       "\t 2010 & local & 32.21\\\\\n",
       "\t 2009 & local & 32.83\\\\\n",
       "\t 2008 & local & 31.94\\\\\n",
       "\t 2007 & local & 30.81\\\\\n",
       "\t 2006 & local & 29.11\\\\\n",
       "\t 2019 & other &  3.21\\\\\n",
       "\t 2018 & other &  3.09\\\\\n",
       "\t 2017 & other &  2.99\\\\\n",
       "\t 2016 & other &  2.89\\\\\n",
       "\t 2015 & other &  2.80\\\\\n",
       "\t 2014 & other &  2.94\\\\\n",
       "\t 2013 & other &  2.60\\\\\n",
       "\t 2012 & other &  3.13\\\\\n",
       "\t 2011 & other &  2.75\\\\\n",
       "\t 2010 & other &  2.90\\\\\n",
       "\t 2009 & other &  3.08\\\\\n",
       "\t 2008 & other &  3.16\\\\\n",
       "\t 2007 & other &  3.29\\\\\n",
       "\t 2006 & other &  3.09\\\\\n",
       "\\end{tabular}\n"
      ],
      "text/markdown": [
       "\n",
       "A data.frame: 70 × 3\n",
       "\n",
       "| Year &lt;fct&gt; | type &lt;chr&gt; | values &lt;dbl&gt; |\n",
       "|---|---|---|\n",
       "| 2019 | total   | 44.88 |\n",
       "| 2018 | total   | 43.65 |\n",
       "| 2017 | total   | 42.34 |\n",
       "| 2016 | total   | 41.04 |\n",
       "| 2015 | total   | 39.94 |\n",
       "| 2014 | total   | 39.34 |\n",
       "| 2013 | total   | 37.90 |\n",
       "| 2012 | total   | 37.98 |\n",
       "| 2011 | total   | 38.09 |\n",
       "| 2010 | total   | 37.97 |\n",
       "| 2009 | total   | 39.01 |\n",
       "| 2008 | total   | 38.62 |\n",
       "| 2007 | total   | 37.66 |\n",
       "| 2006 | total   | 35.64 |\n",
       "| 2019 | federal |  0.12 |\n",
       "| 2018 | federal |  0.14 |\n",
       "| 2017 | federal |  0.15 |\n",
       "| 2016 | federal |  0.14 |\n",
       "| 2015 | federal |  0.14 |\n",
       "| 2014 | federal |  0.15 |\n",
       "| 2013 | federal |  0.17 |\n",
       "| 2012 | federal |  0.20 |\n",
       "| 2011 | federal |  0.19 |\n",
       "| 2010 | federal |  0.18 |\n",
       "| 2009 | federal |  0.16 |\n",
       "| 2008 | federal |  0.17 |\n",
       "| 2007 | federal |  0.16 |\n",
       "| 2006 | federal |  0.17 |\n",
       "| 2019 | state   |  2.99 |\n",
       "| 2018 | state   |  2.90 |\n",
       "| ⋮ | ⋮ | ⋮ |\n",
       "| 2007 | state |  3.39 |\n",
       "| 2006 | state |  3.27 |\n",
       "| 2019 | local | 38.55 |\n",
       "| 2018 | local | 37.51 |\n",
       "| 2017 | local | 36.37 |\n",
       "| 2016 | local | 35.19 |\n",
       "| 2015 | local | 34.16 |\n",
       "| 2014 | local | 33.87 |\n",
       "| 2013 | local | 32.14 |\n",
       "| 2012 | local | 32.05 |\n",
       "| 2011 | local | 32.28 |\n",
       "| 2010 | local | 32.21 |\n",
       "| 2009 | local | 32.83 |\n",
       "| 2008 | local | 31.94 |\n",
       "| 2007 | local | 30.81 |\n",
       "| 2006 | local | 29.11 |\n",
       "| 2019 | other |  3.21 |\n",
       "| 2018 | other |  3.09 |\n",
       "| 2017 | other |  2.99 |\n",
       "| 2016 | other |  2.89 |\n",
       "| 2015 | other |  2.80 |\n",
       "| 2014 | other |  2.94 |\n",
       "| 2013 | other |  2.60 |\n",
       "| 2012 | other |  3.13 |\n",
       "| 2011 | other |  2.75 |\n",
       "| 2010 | other |  2.90 |\n",
       "| 2009 | other |  3.08 |\n",
       "| 2008 | other |  3.16 |\n",
       "| 2007 | other |  3.29 |\n",
       "| 2006 | other |  3.09 |\n",
       "\n"
      ],
      "text/plain": [
       "   Year type    values\n",
       "1  2019 total   44.88 \n",
       "2  2018 total   43.65 \n",
       "3  2017 total   42.34 \n",
       "4  2016 total   41.04 \n",
       "5  2015 total   39.94 \n",
       "6  2014 total   39.34 \n",
       "7  2013 total   37.90 \n",
       "8  2012 total   37.98 \n",
       "9  2011 total   38.09 \n",
       "10 2010 total   37.97 \n",
       "11 2009 total   39.01 \n",
       "12 2008 total   38.62 \n",
       "13 2007 total   37.66 \n",
       "14 2006 total   35.64 \n",
       "15 2019 federal  0.12 \n",
       "16 2018 federal  0.14 \n",
       "17 2017 federal  0.15 \n",
       "18 2016 federal  0.14 \n",
       "19 2015 federal  0.14 \n",
       "20 2014 federal  0.15 \n",
       "21 2013 federal  0.17 \n",
       "22 2012 federal  0.20 \n",
       "23 2011 federal  0.19 \n",
       "24 2010 federal  0.18 \n",
       "25 2009 federal  0.16 \n",
       "26 2008 federal  0.17 \n",
       "27 2007 federal  0.16 \n",
       "28 2006 federal  0.17 \n",
       "29 2019 state    2.99 \n",
       "30 2018 state    2.90 \n",
       "⋮  ⋮    ⋮       ⋮     \n",
       "41 2007 state    3.39 \n",
       "42 2006 state    3.27 \n",
       "43 2019 local   38.55 \n",
       "44 2018 local   37.51 \n",
       "45 2017 local   36.37 \n",
       "46 2016 local   35.19 \n",
       "47 2015 local   34.16 \n",
       "48 2014 local   33.87 \n",
       "49 2013 local   32.14 \n",
       "50 2012 local   32.05 \n",
       "51 2011 local   32.28 \n",
       "52 2010 local   32.21 \n",
       "53 2009 local   32.83 \n",
       "54 2008 local   31.94 \n",
       "55 2007 local   30.81 \n",
       "56 2006 local   29.11 \n",
       "57 2019 other    3.21 \n",
       "58 2018 other    3.09 \n",
       "59 2017 other    2.99 \n",
       "60 2016 other    2.89 \n",
       "61 2015 other    2.80 \n",
       "62 2014 other    2.94 \n",
       "63 2013 other    2.60 \n",
       "64 2012 other    3.13 \n",
       "65 2011 other    2.75 \n",
       "66 2010 other    2.90 \n",
       "67 2009 other    3.08 \n",
       "68 2008 other    3.16 \n",
       "69 2007 other    3.29 \n",
       "70 2006 other    3.09 "
      ]
     },
     "metadata": {},
     "output_type": "display_data"
    }
   ],
   "source": [
    "#For the operating revenue dataset, we need to do some cleaning to get it ready to make a line graph \n",
    "library_operating_revenue$Year <- as.factor(library_operating_revenue$Year)\n",
    "\n",
    "library_operating_revenue <- library_operating_revenue %>%\n",
    "    rename(\"total\" = \"total_per_capita_operating.revenue\")\n",
    "head(library_operating_revenue)\n",
    "\n",
    "library_operating_revenue <- library_operating_revenue %>%\n",
    "    gather(key=\"type\", value=\"values\", 2:6)\n"
   ]
  },
  {
   "cell_type": "code",
   "execution_count": 5,
   "metadata": {},
   "outputs": [
    {
     "name": "stderr",
     "output_type": "stream",
     "text": [
      "Updating HTML index of packages in '.Library'\n",
      "Making 'packages.html' ... done\n",
      "Updating HTML index of packages in '.Library'\n",
      "Making 'packages.html' ... done\n",
      "Updating HTML index of packages in '.Library'\n",
      "Making 'packages.html' ... done\n",
      "also installing the dependencies ‘cpp11’, ‘wk’, ‘s2’\n",
      "\n",
      "Updating HTML index of packages in '.Library'\n",
      "Making 'packages.html' ... done\n",
      "also installing the dependency ‘packcircles’\n",
      "\n",
      "Updating HTML index of packages in '.Library'\n",
      "Making 'packages.html' ... done\n"
     ]
    }
   ],
   "source": [
    "install.packages(\"sp\")\n",
    "install.packages(\"USAboundariesData\", repos = \"https://ropensci.r-universe.dev\", type = \"source\")\n",
    "install.packages(\"USAboundaries\")\n",
    "install.packages(\"sf\")\n",
    "install.packages(\"cartogram\")\n",
    "\n"
   ]
  },
  {
   "cell_type": "code",
   "execution_count": 6,
   "metadata": {},
   "outputs": [
    {
     "name": "stderr",
     "output_type": "stream",
     "text": [
      "Linking to GEOS 3.6.2, GDAL 2.2.3, PROJ 4.9.3\n"
     ]
    }
   ],
   "source": [
    "library(sp)\n",
    "library(USAboundaries)\n",
    "library(sf)"
   ]
  },
  {
   "cell_type": "code",
   "execution_count": 7,
   "metadata": {},
   "outputs": [
    {
     "name": "stderr",
     "output_type": "stream",
     "text": [
      "Warning message in cartogram_cont.sf(sf::st_as_sf(x), weight, itermax = itermax, :\n",
      "“NA not allowed in weight vector. Features will be removed from Shape.”Mean size error for iteration 1: 2.94669200322373\n",
      "Mean size error for iteration 2: 1.83435717717816\n",
      "Mean size error for iteration 3: 1.43776152831863\n",
      "Mean size error for iteration 4: 1.24506842841144\n",
      "Mean size error for iteration 5: 1.14719097793555\n",
      "Mean size error for iteration 6: 1.09243605637358\n",
      "Mean size error for iteration 7: 1.06005950960727\n",
      "Mean size error for iteration 8: 1.04072671190116\n",
      "Mean size error for iteration 9: 1.02826383670977\n",
      "Mean size error for iteration 10: 1.02024807193646\n",
      "Mean size error for iteration 11: 1.01488919387218\n",
      "Mean size error for iteration 12: 1.01104533378798\n",
      "Mean size error for iteration 13: 1.00827502987458\n",
      "Mean size error for iteration 14: 1.00623449364686\n",
      "Mean size error for iteration 15: 1.00471667411422\n",
      "Mean size error for iteration 16: 1.00358620081311\n",
      "Mean size error for iteration 17: 1.00273439744247\n",
      "Mean size error for iteration 18: 1.00209232779655\n",
      "Mean size error for iteration 19: 1.00160496072992\n",
      "Mean size error for iteration 20: 1.00123693505916\n",
      "Mean size error for iteration 21: 1.00095428978524\n",
      "Mean size error for iteration 22: 1.00073699721828\n",
      "Mean size error for iteration 23: 1.00056999693456\n",
      "Mean size error for iteration 24: 1.00044165656201\n",
      "Mean size error for iteration 25: 1.00034263830066\n",
      "Mean size error for iteration 26: 1.00026614097856\n",
      "Mean size error for iteration 27: 1.00020688503842\n",
      "Mean size error for iteration 28: 1.00016094214251\n",
      "Mean size error for iteration 29: 1.00012529368994\n",
      "Mean size error for iteration 30: 1.00009761169797\n"
     ]
    },
    {
     "data": {
      "image/png": "[encoded data removed]",
      "text/plain": [
       "plot without title"
      ]
     },
     "metadata": {},
     "output_type": "display_data"
    }
   ],
   "source": [
    "states <- us_states()\n",
    "\n",
    "spdf <- as_Spatial(states)\n",
    "\n",
    "final_merged <- merge(spdf, merged_library_temps, by.x = \"state_name\", by.y = \"State\")\n",
    "\n",
    "library(cartogram)\n",
    " \n",
    "us_cartogram <- cartogram_cont(final_merged, \"per_capita_library_spend\", itermax=40)\n",
    "\n",
    "#us_cartogram_2 <- cartogram_ncont(final_merged, \"per_capita_library_spend\", k = 1, inplace=TRUE)\n",
    "\n",
    "#us_cartogram_3 <- cartogram_dorling(final_merged, \"per_capita_library_spend\", k = 5, m_weight = 1, itermax = 1000)\n",
    " \n",
    "plot(us_cartogram)"
   ]
  },
  {
   "cell_type": "code",
   "execution_count": 10,
   "metadata": {},
   "outputs": [
    {
     "data": {
      "text/html": [
       "<strong>png:</strong> 2"
      ],
      "text/latex": [
       "\\textbf{png:} 2"
      ],
      "text/markdown": [
       "**png:** 2"
      ],
      "text/plain": [
       "png \n",
       "  2 "
      ]
     },
     "metadata": {},
     "output_type": "display_data"
    }
   ],
   "source": [
    "\n",
    "library(broom)\n",
    "library(ggplot2)\n",
    "\n",
    "png(filename=\"hot_cartogram.png\")\n",
    "\n",
    "us_cartogram@data$id <- rownames(us_cartogram@data)\n",
    "cartogramdata <- fortify(us_cartogram, region = \"id\")\n",
    "cartogramdf <- merge(cartogramdata, us_cartogram@data, by = \"id\")\n",
    "\n",
    "cartogramdf <- merge(cartogramdf, centroids)\n",
    "\n",
    "library(RColorBrewer)\n",
    "Palette1 <- colorRampPalette(brewer.pal(9, \"OrRd\"))\n",
    "\n",
    "warm_cartogram <- ggplot() +\n",
    "geom_polygon(data = cartogramdf, aes(x = long, y = lat, group=group, fill=summer_1901_2000_mean), color=\"white\", alpha=0.9) +\n",
    "#geom_text(data=cartogramdf, aes(x = longcentroid, y = latcentroid, label = state_abbr), size=4, color=\"white\") + \n",
    "labs(title='The hottest states spend the least on their public libraries', \n",
    "    caption = \"Note: Temperatures are 100-year averages (1901-2000) for each state between June and August.\\nSources: 2019 Annual Survey of State and Local Government Finances, U.S. Census;\\nNational Centers for Environmental Information\\nCredit: Matt Zdun\") +\n",
    "scale_fill_gradientn(colours = Palette1(25), limits=c(60, 90), name=\"Avg. Temp. June - August\") +\n",
    "coord_map() +\n",
    "theme_void() + \n",
    "theme(legend.position=\"bottom\") + \n",
    "theme(text=element_text(family=\"Sans\"))\n",
    "\n",
    "warm_cartogram\n",
    "\n",
    "dev.off()\n"
   ]
  },
  {
   "cell_type": "code",
   "execution_count": 12,
   "metadata": {},
   "outputs": [
    {
     "data": {
      "text/html": [
       "<strong>png:</strong> 2"
      ],
      "text/latex": [
       "\\textbf{png:} 2"
      ],
      "text/markdown": [
       "**png:** 2"
      ],
      "text/plain": [
       "png \n",
       "  2 "
      ]
     },
     "metadata": {},
     "output_type": "display_data"
    }
   ],
   "source": [
    "png(filename=\"hot_lolliplot.png\")\n",
    "\n",
    "warm_lolliplot <- ggplot(cartogramdf, aes(x=summer_1901_2000_mean, y=per_capita_library_spend)) + \n",
    "geom_point(size=3.5, color=\"#ddd4cf\") + \n",
    "geom_text(label=cartogramdf$state_abbr, nudge_y = 2, size=4) +\n",
    "geom_segment(aes(x=summer_1901_2000_mean, \n",
    "                      xend=summer_1901_2000_mean, \n",
    "                      y=0, \n",
    "                      yend=per_capita_library_spend), size=0.1) + \n",
    "scale_x_continuous(breaks=seq(50,85,by=2)) +\n",
    "geom_hline(yintercept=0, color='dark gray', size=1.5) + \n",
    "geom_hline(yintercept=39.38, color='black', linetype='dotted') +\n",
    "theme_minimal() +\n",
    "theme(panel.grid.minor.y = element_blank(), panel.grid.major.x = element_blank(), panel.grid.minor.x = element_blank(), axis.title.x=element_blank(), axis.title.y=element_blank(), axis.text.x=element_blank(),axis.ticks.x=element_blank()) \n",
    "\n",
    "warm_lolliplot\n",
    "\n",
    "dev.off()"
   ]
  },
  {
   "cell_type": "code",
   "execution_count": 14,
   "metadata": {},
   "outputs": [
    {
     "data": {
      "text/html": [
       "<strong>png:</strong> 2"
      ],
      "text/latex": [
       "\\textbf{png:} 2"
      ],
      "text/markdown": [
       "**png:** 2"
      ],
      "text/plain": [
       "png \n",
       "  2 "
      ]
     },
     "metadata": {},
     "output_type": "display_data"
    }
   ],
   "source": [
    "png(filename=\"cold_cartogram.png\")\n",
    "\n",
    "Palette2 <- colorRampPalette(brewer.pal(9, \"PuBu\"))\n",
    "\n",
    "cold_cartogram <- ggplot() +\n",
    "geom_polygon(data = cartogramdf, aes(x = long, y = lat, group=group, fill=winter_1901_2000_mean), color=\"white\", alpha=0.9) +\n",
    "#geom_text(data=cartogramdf, aes(x = longcentroid, y = latcentroid, label = state_abbr), size=4, color=\"white\") + \n",
    "labs(title='The coldest states spend the least on their libraries', \n",
    "    caption = \"Note: Temperatures are 100-year averages (1901-2000) for each state between December and February.\\nSources: 2019 Annual Survey of State and Local Government Finances, U.S. Census;\\nNational Centers for Environmental Information\\nCredit: Matt Zdun\") +\n",
    "scale_fill_distiller(palette =\"PuBu\", limits=c(0,60), direction = -1, name=\"Avg. Temp. Dec. — Feb.\") +\n",
    "coord_map() +\n",
    "theme_void() + \n",
    "theme(legend.position=\"bottom\") + \n",
    "theme(text=element_text(family=\"Sans\"))\n",
    "\n",
    "cold_cartogram\n",
    "\n",
    "dev.off()"
   ]
  },
  {
   "cell_type": "code",
   "execution_count": 15,
   "metadata": {},
   "outputs": [
    {
     "data": {
      "text/html": [
       "<strong>png:</strong> 2"
      ],
      "text/latex": [
       "\\textbf{png:} 2"
      ],
      "text/markdown": [
       "**png:** 2"
      ],
      "text/plain": [
       "png \n",
       "  2 "
      ]
     },
     "metadata": {},
     "output_type": "display_data"
    }
   ],
   "source": [
    "png(filename=\"cold_lolliplot.png\")\n",
    "\n",
    "cold_lolliplot <- ggplot(cartogramdf, aes(x=winter_1901_2000_mean, y=per_capita_library_spend)) + \n",
    "geom_point(size=3.5, color=\"#ddd4cf\") + \n",
    "geom_text(label=cartogramdf$state_abbr, nudge_y = 2, size=4) +\n",
    "geom_segment(aes(x=winter_1901_2000_mean, \n",
    "                      xend=winter_1901_2000_mean, \n",
    "                      y=0, \n",
    "                      yend=per_capita_library_spend), size=0.1) + \n",
    "geom_hline(yintercept=0, color='dark gray', size=1.5) + \n",
    "geom_hline(yintercept=39.38, color='black', linetype='dotted') +\n",
    "theme_minimal() +\n",
    "theme(panel.grid.minor.y = element_blank(), panel.grid.major.x = element_blank(), panel.grid.minor.x = element_blank(), axis.title.x=element_blank(), axis.title.y=element_blank(), axis.text.x=element_blank(),axis.ticks.x=element_blank()) \n",
    "\n",
    "cold_lolliplot\n",
    "\n",
    "dev.off()"
   ]
  },
  {
   "cell_type": "code",
   "execution_count": 27,
   "metadata": {},
   "outputs": [
    {
     "data": {
      "text/html": [
       "<strong>png:</strong> 2"
      ],
      "text/latex": [
       "\\textbf{png:} 2"
      ],
      "text/markdown": [
       "**png:** 2"
      ],
      "text/plain": [
       "png \n",
       "  2 "
      ]
     },
     "metadata": {},
     "output_type": "display_data"
    }
   ],
   "source": [
    "png(filename=\"library_revenue_line.png\")\n",
    "\n",
    "operating_revenue_line_plot <- \n",
    "library_operating_revenue %>%\n",
    "filter(type!=\"other\") %>%\n",
    "ggplot(aes(x=Year, y=values, group=type, color=type)) +\n",
    "scale_color_manual(values=c(\"#a1afa1\", \"#a1afa1\", \"#a1afa1\", \"#1e4a3b\")) +\n",
    "scale_x_discrete(breaks=c('2006', '2010', '2014', '2018')) +\n",
    "geom_line() +\n",
    "theme_minimal() + \n",
    "theme(panel.grid.minor.y = element_blank(), panel.grid.major.x = element_blank(), text=element_text(family=\"Sans\"),\n",
    "      axis.title.x=element_blank(), axis.title.y=element_blank(), legend.position = \"none\") + \n",
    "geom_vline(aes(xintercept = which(levels(Year) == '2009')), linetype='dotted') + \n",
    "labs(title=\"Local governments have bumped up the amount of (per-capita)\\nrevenue allocated to their public libraries over the last decade\",\n",
    "     subtitle=\"But states and the federal government largely have not.\",\n",
    "    caption = \"Sources: Public Libraries Survey, Institute of Museum and Library Services\\nCredit: Matt Zdun\") \n",
    "\n",
    "operating_revenue_line_plot\n",
    "\n",
    "dev.off()"
   ]
  },
  {
   "cell_type": "code",
   "execution_count": 28,
   "metadata": {},
   "outputs": [
    {
     "data": {
      "text/html": [
       "<strong>png:</strong> 2"
      ],
      "text/latex": [
       "\\textbf{png:} 2"
      ],
      "text/markdown": [
       "**png:** 2"
      ],
      "text/plain": [
       "png \n",
       "  2 "
      ]
     },
     "metadata": {},
     "output_type": "display_data"
    }
   ],
   "source": [
    "png(filename=\"library_upgrades_needed_slope.png\")\n",
    "\n",
    "library_upgrades_needed <- read.csv(\"library_upgrades_needed.csv\")\n",
    "library_upgrades_needed <- library_upgrades_needed %>%\n",
    "                                filter(state!='US')\n",
    "\n",
    "slope_plot <- ggplot(library_upgrades_needed) + geom_segment(aes(x=0.5, xend=2.5, y=`start`, yend=`end`, color=state), size=.75) +\n",
    "                scale_color_manual(values=c(\"AK\" = \"#9cb4b3\", \"DC\" = \"#f3e3db\", \"HI\" = \"#c5ccc3\", \"MD\" = \"#ad8f83\", \"WA\" = \"#b9774b\",\n",
    "                                           \"CA\" = \"#d6bbb2\", \"DE\" = \"#364439\", \"IL\" = \"#9c5843\", \"NY\" = \"#6ca5a0\", \"WV\" = \"#cca4a4\"))+\n",
    "                  geom_vline(xintercept=2.5, linetype=\"dashed\", size=.1) +\n",
    "                  xlim(.5, 2.5) + ylim(-1,(1.1*(max(library_upgrades_needed$`start`, library_upgrades_needed$`end`)))) +\n",
    "                    theme(text=element_text(family=\"Sans\")) +\n",
    "                theme_minimal() +\n",
    "                  theme(axis.title.x=element_blank(),\n",
    "                axis.text.x=element_blank(),\n",
    "                axis.ticks.x=element_blank()) +\n",
    "                ylab('Average Salary Across All Occupations') +\n",
    "                theme(panel.grid.minor.x = element_blank(), panel.grid.major.x=element_blank(), axis.title.y=element_blank()) +\n",
    "                labs(title=\"Libraries need billions more if they are to effectively serve\\nclimate refugees\", \n",
    "                     subtitle=\"In the past four years, nine states and the District of Columbia assessed their libraries and\\ndetermined that they need a total of $8 billion to construct new libraries and renovate\\nexisting ones.\",\n",
    "                caption = \"\\nSource: American Library Association\\nCredit: Matt Zdun\") +\n",
    "                theme(plot.title = element_text(size=16)) + \n",
    "                theme(plot.subtitle = element_text(size=10)) +\n",
    "                theme(legend.position = \"bottom\", legend.title=element_blank(), legend.text=element_text(size=8))\n",
    "                \n",
    "slope_plot\n",
    "\n",
    "dev.off()\n",
    "\n",
    "\n",
    "\n",
    "\n",
    "\n",
    "\n",
    "\n",
    "\n"
   ]
  },
  {
   "cell_type": "code",
   "execution_count": 29,
   "metadata": {},
   "outputs": [
    {
     "data": {
      "text/html": [
       "<strong>png:</strong> 2"
      ],
      "text/latex": [
       "\\textbf{png:} 2"
      ],
      "text/markdown": [
       "**png:** 2"
      ],
      "text/plain": [
       "png \n",
       "  2 "
      ]
     },
     "metadata": {},
     "output_type": "display_data"
    }
   ],
   "source": [
    "png(filename=\"zoomed_library_upgrades_needed_slope.png\")\n",
    "\n",
    "#Zooming in on the states clustered \n",
    "library_upgrades_needed_Zoomed <- library_upgrades_needed %>%\n",
    "                                filter(state!='CA' & state!='IL' & state!='NY')\n",
    "\n",
    "\n",
    "slope_plot_zoomed <- ggplot(library_upgrades_needed_Zoomed) + geom_segment(aes(x=0.5, xend=2.5, y=`start`, yend=`end`, color=state), size=.75) +\n",
    "                scale_color_manual(values=c(\"AK\" = \"#9cb4b3\", \"DC\" = \"#f3e3db\", \"HI\" = \"#c5ccc3\", \"MD\" = \"#ad8f83\", \"WA\" = \"#b9774b\",\n",
    "                                           \"CA\" = \"#d6bbb2\", \"DE\" = \"#364439\", \"IL\" = \"#9c5843\", \"NY\" = \"#6ca5a0\", \"WV\" = \"#cca4a4\"))+\n",
    "                  geom_vline(xintercept=2.5, linetype=\"dashed\", size=.1) +\n",
    "                  xlim(.5, 2.5) + ylim(-1,(1.1*(max(library_upgrades_needed_Zoomed$`start`, library_upgrades_needed_Zoomed$`end`)))) +\n",
    "                    theme(text=element_text(family=\"Sans\")) +\n",
    "                theme_minimal() +\n",
    "                  theme(axis.title.x=element_blank(),\n",
    "                axis.text.x=element_blank(),\n",
    "                axis.ticks.x=element_blank()) +\n",
    "                ylab('Average Salary Across All Occupations') +\n",
    "                theme(panel.grid.minor.x = element_blank(), panel.grid.major.x=element_blank(), axis.title.y=element_blank()) +\n",
    "                labs(title=\"Libraries need billions more if they are to effectively serve\\nclimate refugees\", \n",
    "                     subtitle=\"In the past four years, nine states and the District of Columbia assessed their libraries and\\ndetermined that they need a total of $8 billion to construct new libraries and renovate\\nexisting ones.\",\n",
    "                caption = \"\\nSource: American Library Association\\nCredit: Matt Zdun\") +\n",
    "                theme(plot.title = element_text(size=16)) + \n",
    "                theme(plot.subtitle = element_text(size=10)) +\n",
    "                theme(legend.position = \"bottom\", legend.title=element_blank(), legend.text=element_text(size=8))\n",
    "                \n",
    "slope_plot_zoomed\n",
    "\n",
    "dev.off()"
   ]
  },
  {
   "cell_type": "markdown",
   "metadata": {},
   "source": [
    "---\n",
    "\n",
    "# Common Pitfalls / Inefficiencies\n",
    "\n",
    "**BEFORE you submit your end product, pay attention to the following in your visualizations and story:**"
   ]
  },
  {
   "cell_type": "markdown",
   "metadata": {},
   "source": [
    "---\n",
    "\n",
    "### - Remember the design analysis questions:\n",
    "\n",
    "**what, how, who, why?** \n",
    "\n",
    "- What are showing/telling? \n",
    "- How are you going to show it (efficiency? visual tasks like comparison, trends, query, etc.) \n",
    "- Who is your audience? Why should they care about what you have to tell? What are the **actionable** information they can take from your story? \n",
    "- Why are you telling the story? What is your angle, message, point? (make it clear in text AND visuals) "
   ]
  },
  {
   "cell_type": "markdown",
   "metadata": {},
   "source": [
    "---\n",
    "\n",
    "### - Pay attention to the color schemes/palettes:\n",
    "\n",
    "Do NOT use sequential palettes for data attributes that have no ordering; do NOT use qualitative color schemes for attributes where order matters. "
   ]
  },
  {
   "cell_type": "markdown",
   "metadata": {},
   "source": [
    "---\n",
    "\n",
    "###  - Color coordinate among plots so that the same data attributes have the same color in all plots:\n",
    "\n",
    "You can do that by creating a manual palette and use it everywhere to make sure same color is always assigned to the same attribute value (especially important for categories). Do not change color of the same category among plots!"
   ]
  },
  {
   "cell_type": "markdown",
   "metadata": {},
   "source": [
    "---\n",
    "\n",
    "###  - Perceptual grouping is important! group and/or order values:\n",
    "\n",
    "People tend to make sense of things and compare better when they are ordered. \n",
    "\n",
    "- In a bar chart, **order the axes** by time, value, etc. to make comparisons more intuitive. \n",
    "\n",
    "- Pie chart: order wedges. \n",
    "\n",
    "- In a bubble map, if you want to show trends, use grouping variable to **connect** bubbles, etc. "
   ]
  },
  {
   "cell_type": "markdown",
   "metadata": {},
   "source": [
    "---\n",
    "\n",
    "### - No lengthy text in x axis:\n",
    "\n",
    "- **Flip** the axes of a bar chart so that string values (text) are readable on the y axis left to right, \n",
    "\n",
    "**or** \n",
    "\n",
    "- at least, put them slanted in x axis for better readibility. "
   ]
  },
  {
   "cell_type": "markdown",
   "metadata": {},
   "source": [
    "---\n",
    "\n",
    "### - Plot only those that tell an obvious story:\n",
    "\n",
    "**No crowded** scatter plots with useless linear regression lines that don't tell anything.  You do NOT have to plot ALL your data. Look at alternative plots to tell your story. **Also, look below:** "
   ]
  },
  {
   "cell_type": "markdown",
   "metadata": {},
   "source": [
    "---\n",
    "\n",
    "### - If you have too many classes (discrete variables/categories), try to GROUP them:\n",
    "\n",
    "- Instead of giving a color to each of the dozen or so categories, you can put them in meaningful groups and color code to reduce clutter. \n",
    "\n",
    "- For sequential variables, you can do the same thing by **binning** numbers into bins (like in a histogram). \n",
    "\n",
    "- **Stepped color palettes** may be more useful than smooth sequential palettes (especially for comparison in choropleth maps) for a large range of values in an attribute. \n",
    "\n",
    "- You can group/cluster data into meaningful chunks and display those as bubble charts, networks, geographical regions, etc. \n",
    "\n",
    "- Do NOT dump all the data in the plot unless there is a CLEAR pattern/clustering to it that can be perceived immediately. "
   ]
  },
  {
   "cell_type": "markdown",
   "metadata": {},
   "source": [
    "---\n",
    "\n",
    "### - ANNOTATE! ANNOTATE! ANNOTATE!\n",
    "\n",
    "- **Tell** your audience what they are supposed to see. \n",
    "\n",
    "- Use meaningful titles with a message, not dry titles. \n",
    "\n",
    "- Use nice and concise axis labels. \n",
    "\n",
    "- Use text annotations (look at the **examples in the lab notebook**)."
   ]
  },
  {
   "cell_type": "markdown",
   "metadata": {},
   "source": [
    "---\n",
    "\n",
    "### - THEMING\n",
    "\n",
    "- **Good looking** charts are more **convincing**!\n",
    "\n",
    "- **Almost NEVER use the default color palette, default theme, default font.**\n",
    "\n",
    "- Use a subtle color scheme, nice fonts, interesting glyphs, etc. to make your charts look more **sophisticated**. "
   ]
  },
  {
   "cell_type": "markdown",
   "metadata": {},
   "source": [
    "---\n",
    "\n",
    "### - Use space wisely!\n",
    "\n",
    "- **Balance the plots** to use space effectively.\n",
    "\n",
    "- Pay attention to **data-ink ratio**.\n",
    "\n",
    "- **HAVE A FLOW left to right, top to bottom**. "
   ]
  }
 ],
 "metadata": {
  "kernelspec": {
   "display_name": "R",
   "language": "R",
   "name": "ir"
  },
  "language_info": {
   "codemirror_mode": "r",
   "file_extension": ".r",
   "mimetype": "text/x-r-source",
   "name": "R",
   "pygments_lexer": "r",
   "version": "3.5.1"
  }
 },
 "nbformat": 4,
 "nbformat_minor": 2
}
